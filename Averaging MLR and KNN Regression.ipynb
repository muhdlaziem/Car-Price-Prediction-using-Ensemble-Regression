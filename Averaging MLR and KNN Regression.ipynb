{
 "cells": [
  {
   "cell_type": "code",
   "execution_count": 1,
   "metadata": {},
   "outputs": [
    {
     "name": "stdout",
     "output_type": "stream",
     "text": [
      "(9545, 11)\n"
     ]
    },
    {
     "data": {
      "text/html": [
       "<div>\n",
       "<style scoped>\n",
       "    .dataframe tbody tr th:only-of-type {\n",
       "        vertical-align: middle;\n",
       "    }\n",
       "\n",
       "    .dataframe tbody tr th {\n",
       "        vertical-align: top;\n",
       "    }\n",
       "\n",
       "    .dataframe thead th {\n",
       "        text-align: right;\n",
       "    }\n",
       "</style>\n",
       "<table border=\"1\" class=\"dataframe\">\n",
       "  <thead>\n",
       "    <tr style=\"text-align: right;\">\n",
       "      <th></th>\n",
       "      <th>Engine Fuel Type</th>\n",
       "      <th>Engine HP</th>\n",
       "      <th>Engine Cylinders</th>\n",
       "      <th>Transmission Type</th>\n",
       "      <th>Driven_Wheels</th>\n",
       "      <th>Number of Doors</th>\n",
       "      <th>Vehicle Size</th>\n",
       "      <th>highway MPG</th>\n",
       "      <th>city mpg</th>\n",
       "      <th>MSRP</th>\n",
       "      <th>Age</th>\n",
       "    </tr>\n",
       "  </thead>\n",
       "  <tbody>\n",
       "    <tr>\n",
       "      <th>0</th>\n",
       "      <td>1.0</td>\n",
       "      <td>335.0</td>\n",
       "      <td>6.0</td>\n",
       "      <td>2</td>\n",
       "      <td>1</td>\n",
       "      <td>2.0</td>\n",
       "      <td>1</td>\n",
       "      <td>26</td>\n",
       "      <td>19</td>\n",
       "      <td>46135</td>\n",
       "      <td>6</td>\n",
       "    </tr>\n",
       "    <tr>\n",
       "      <th>1</th>\n",
       "      <td>1.0</td>\n",
       "      <td>300.0</td>\n",
       "      <td>6.0</td>\n",
       "      <td>2</td>\n",
       "      <td>1</td>\n",
       "      <td>2.0</td>\n",
       "      <td>1</td>\n",
       "      <td>28</td>\n",
       "      <td>19</td>\n",
       "      <td>40650</td>\n",
       "      <td>6</td>\n",
       "    </tr>\n",
       "    <tr>\n",
       "      <th>2</th>\n",
       "      <td>1.0</td>\n",
       "      <td>300.0</td>\n",
       "      <td>6.0</td>\n",
       "      <td>2</td>\n",
       "      <td>1</td>\n",
       "      <td>2.0</td>\n",
       "      <td>1</td>\n",
       "      <td>28</td>\n",
       "      <td>20</td>\n",
       "      <td>36350</td>\n",
       "      <td>6</td>\n",
       "    </tr>\n",
       "    <tr>\n",
       "      <th>3</th>\n",
       "      <td>1.0</td>\n",
       "      <td>230.0</td>\n",
       "      <td>6.0</td>\n",
       "      <td>2</td>\n",
       "      <td>1</td>\n",
       "      <td>2.0</td>\n",
       "      <td>1</td>\n",
       "      <td>28</td>\n",
       "      <td>18</td>\n",
       "      <td>29450</td>\n",
       "      <td>6</td>\n",
       "    </tr>\n",
       "    <tr>\n",
       "      <th>4</th>\n",
       "      <td>1.0</td>\n",
       "      <td>230.0</td>\n",
       "      <td>6.0</td>\n",
       "      <td>2</td>\n",
       "      <td>1</td>\n",
       "      <td>2.0</td>\n",
       "      <td>1</td>\n",
       "      <td>28</td>\n",
       "      <td>18</td>\n",
       "      <td>34500</td>\n",
       "      <td>6</td>\n",
       "    </tr>\n",
       "  </tbody>\n",
       "</table>\n",
       "</div>"
      ],
      "text/plain": [
       "   Engine Fuel Type  Engine HP  Engine Cylinders  Transmission Type  \\\n",
       "0               1.0      335.0               6.0                  2   \n",
       "1               1.0      300.0               6.0                  2   \n",
       "2               1.0      300.0               6.0                  2   \n",
       "3               1.0      230.0               6.0                  2   \n",
       "4               1.0      230.0               6.0                  2   \n",
       "\n",
       "   Driven_Wheels  Number of Doors  Vehicle Size  highway MPG  city mpg   MSRP  \\\n",
       "0              1              2.0             1           26        19  46135   \n",
       "1              1              2.0             1           28        19  40650   \n",
       "2              1              2.0             1           28        20  36350   \n",
       "3              1              2.0             1           28        18  29450   \n",
       "4              1              2.0             1           28        18  34500   \n",
       "\n",
       "   Age  \n",
       "0    6  \n",
       "1    6  \n",
       "2    6  \n",
       "3    6  \n",
       "4    6  "
      ]
     },
     "execution_count": 1,
     "metadata": {},
     "output_type": "execute_result"
    }
   ],
   "source": [
    "import numpy as np\n",
    "import pandas as pd\n",
    "import matplotlib.pyplot as plt\n",
    "from mpl_toolkits.mplot3d import Axes3D\n",
    "\n",
    "data = pd.read_csv('Cleancp.csv')\n",
    "print(data.shape)\n",
    "data.head()\n",
    "\n",
    "# from sklearn.linear_model import LinearRegression\n",
    "# from sklearn.metrics import mean_squared_error\n",
    "\n",
    "# # X and Y Values\n",
    "# X = np.array([highwayMPG, citympg]).T\n",
    "# Y = np.array(MSRP)\n",
    "\n",
    "# # Model Intialization\n",
    "# reg = LinearRegression()\n",
    "# # Data Fitting\n",
    "# reg = reg.fit(X, Y)\n",
    "# # Y Prediction\n",
    "# Y_pred = reg.predict(X)\n",
    "\n",
    "# # Model Evaluation\n",
    "# rmse = np.sqrt(mean_squared_error(Y, Y_pred))\n",
    "# r2 = reg.score(X, Y)\n",
    "\n",
    "# print(rmse)\n",
    "# print(r2)\n"
   ]
  },
  {
   "cell_type": "code",
   "execution_count": 2,
   "metadata": {},
   "outputs": [],
   "source": [
    "#Getting the variables to an array.\n",
    "EngineFuelType = data['Engine Fuel Type'].values\n",
    "EngineHP = data['Engine HP'].values\n",
    "EngineCylinders = data['Engine Cylinders'].values\n",
    "TransmissionType  = data['Transmission Type'].values\n",
    "Driven_Wheels = data['Driven_Wheels'].values\n",
    "NumberofDoors = data['Number of Doors'].values\n",
    "VehicleSize = data['Vehicle Size'].values\n",
    "highwayMPG = data['highway MPG'].values\n",
    "citympg = data['city mpg'].values\n",
    "MSRP = data['MSRP'].values\n",
    "Age = data['Age'].values"
   ]
  },
  {
   "cell_type": "code",
   "execution_count": 3,
   "metadata": {},
   "outputs": [
    {
     "name": "stdout",
     "output_type": "stream",
     "text": [
      "Initial Cost\n",
      "582766611.8334206\n"
     ]
    }
   ],
   "source": [
    "#Now we generate our parameters(the theta values)\n",
    "m = len(MSRP)\n",
    "x0 = np.ones(m)\n",
    "X = np.array([x0, EngineFuelType, EngineHP,EngineCylinders, TransmissionType,\n",
    "              Driven_Wheels, NumberofDoors, VehicleSize, highwayMPG, citympg, Age]).T\n",
    "Age,  EngineHP,EngineCylinders, highwayMPG, citympg\n",
    "# Initial Coefficients\n",
    "B = np.array([0, 0, 0, 0,0,0,0,0,0,0,0])\n",
    "Y = np.array(MSRP)\n",
    "alpha = 0.00001\n",
    "\n",
    "#We’ll define our cost function.\n",
    "def cost_function(X, Y, B):\n",
    "    m = len(Y)\n",
    "    J = np.sum((X.dot(B) - Y) ** 2)/(2 * m)\n",
    "    return J\n",
    "\n",
    "inital_cost = cost_function(X, Y, B)\n",
    "print(\"Initial Cost\")\n",
    "print(inital_cost)"
   ]
  },
  {
   "cell_type": "code",
   "execution_count": null,
   "metadata": {},
   "outputs": [],
   "source": []
  },
  {
   "cell_type": "code",
   "execution_count": 4,
   "metadata": {},
   "outputs": [
    {
     "name": "stdout",
     "output_type": "stream",
     "text": [
      "New Coefficients\n",
      "[ 2.82853553e-01 -2.57025969e+01  1.28482922e+02 -8.40632326e+01\n",
      " -4.02263563e+01 -5.65397496e+00  6.79752597e+01 -2.95205193e+00\n",
      "  1.05993658e+02  1.32828887e+02 -8.23345089e+02]\n"
     ]
    }
   ],
   "source": [
    "#Defining the Gradient Descent\n",
    "def gradient_descent(X, Y, B, alpha, iterations):\n",
    "    cost_history = [0] * iterations\n",
    "    m = len(Y)\n",
    "    \n",
    "    for iteration in range(iterations):\n",
    "        # Hypothesis Values\n",
    "        h = X.dot(B)\n",
    "        # Difference b/w Hypothesis and Actual Y\n",
    "        loss = h - Y\n",
    "        # Gradient Calculation\n",
    "        gradient = X.T.dot(loss) / m\n",
    "        # Changing Values of B using Gradient\n",
    "        B = B - alpha * gradient\n",
    "        # New Cost Value\n",
    "        cost = cost_function(X, Y, B)\n",
    "        cost_history[iteration] = cost\n",
    "        \n",
    "    return B, cost_history\n",
    "\n",
    "# 100 Iterations\n",
    "newB, cost_history = gradient_descent(X, Y, B, alpha, 10000)\n",
    "\n",
    "# New Values of B\n",
    "print(\"New Coefficients\")\n",
    "print(newB)"
   ]
  },
  {
   "cell_type": "code",
   "execution_count": 5,
   "metadata": {},
   "outputs": [
    {
     "name": "stdout",
     "output_type": "stream",
     "text": [
      "Final Cost\n",
      "36840762.74388958\n"
     ]
    }
   ],
   "source": [
    "# Final Cost of new B\n",
    "print(\"Final Cost\")\n",
    "print(cost_history[-1])"
   ]
  },
  {
   "cell_type": "code",
   "execution_count": 6,
   "metadata": {},
   "outputs": [
    {
     "name": "stdout",
     "output_type": "stream",
     "text": [
      "RMSE\n",
      "8583.794352603\n",
      "R2 Score\n",
      "0.7089424643458567\n"
     ]
    }
   ],
   "source": [
    "# Model Evaluation - RMSE\n",
    "def rmse(Y, Y_pred):\n",
    "    rmse = np.sqrt(sum((Y - Y_pred) ** 2) / len(Y))\n",
    "    return rmse\n",
    "\n",
    "# Model Evaluation - R2 Score\n",
    "def r2_score(Y, Y_pred):\n",
    "    mean_y = np.mean(Y)\n",
    "    ss_tot = sum((Y - mean_y) ** 2)\n",
    "    ss_res = sum((Y - Y_pred) ** 2)\n",
    "    r2 = 1 - (ss_res / ss_tot)\n",
    "    return r2\n",
    "\n",
    "Y_pred = X.dot(newB)\n",
    "\n",
    "print(\"RMSE\")\n",
    "print(rmse(Y, Y_pred))\n",
    "print(\"R2 Score\")\n",
    "print(r2_score(Y, Y_pred))"
   ]
  },
  {
   "cell_type": "code",
   "execution_count": 7,
   "metadata": {},
   "outputs": [
    {
     "data": {
      "text/plain": [
       "array([42898.38490595, 38613.4699557 , 38746.29884222, ...,\n",
       "       38675.93094264, 39447.87083787, 24005.16286728])"
      ]
     },
     "execution_count": 7,
     "metadata": {},
     "output_type": "execute_result"
    }
   ],
   "source": [
    "Y_pred"
   ]
  },
  {
   "cell_type": "code",
   "execution_count": 8,
   "metadata": {},
   "outputs": [
    {
     "name": "stdout",
     "output_type": "stream",
     "text": [
      "<class 'pandas.core.frame.DataFrame'>\n",
      "RangeIndex: 9545 entries, 0 to 9544\n",
      "Data columns (total 11 columns):\n",
      "Engine Fuel Type     9545 non-null float64\n",
      "Engine HP            9545 non-null float64\n",
      "Engine Cylinders     9545 non-null float64\n",
      "Transmission Type    9545 non-null int64\n",
      "Driven_Wheels        9545 non-null int64\n",
      "Number of Doors      9545 non-null float64\n",
      "Vehicle Size         9545 non-null int64\n",
      "highway MPG          9545 non-null int64\n",
      "city mpg             9545 non-null int64\n",
      "MSRP                 9545 non-null int64\n",
      "Age                  9545 non-null int64\n",
      "dtypes: float64(4), int64(7)\n",
      "memory usage: 820.3 KB\n"
     ]
    }
   ],
   "source": [
    "data.info()"
   ]
  },
  {
   "cell_type": "code",
   "execution_count": 9,
   "metadata": {},
   "outputs": [],
   "source": [
    "# from sklearn.linear_model import LinearRegression\n",
    "# from sklearn.tree import DecisionTreeRegressor\n",
    "# from sklearn.metrics import mean_squared_error\n",
    "\n",
    "\n",
    "# # X and Y Values\n",
    "# X = np.array([  EngineFuelType, EngineHP,EngineCylinders, TransmissionType,\n",
    "#              Driven_Wheels, NumberofDoors, VehicleSize, highwayMPG, citympg, Age]).T\n",
    "# Y = np.array(MSRP)\n",
    "# estimators = []\n",
    "# # Model Intialization\n",
    "# reg = LinearRegression()\n",
    "# estimators.append(('linear',reg))\n",
    "# # Data Fitting\n",
    "# reg = reg.fit(X, Y)\n",
    "# # Y Prediction\n",
    "# Y_pred = reg.predict(X)\n",
    "\n",
    "# # Model Evaluation\n",
    "# rmse = np.sqrt(mean_squared_error(Y, Y_pred))\n",
    "# r2 = reg.score(X, Y)\n",
    "\n",
    "# print(rmse)\n",
    "# print(r2)"
   ]
  },
  {
   "cell_type": "code",
   "execution_count": 10,
   "metadata": {},
   "outputs": [
    {
     "data": {
      "text/plain": [
       "array([42898.38490595, 38613.4699557 , 38746.29884222, ...,\n",
       "       38675.93094264, 39447.87083787, 24005.16286728])"
      ]
     },
     "execution_count": 10,
     "metadata": {},
     "output_type": "execute_result"
    }
   ],
   "source": [
    "Y_pred"
   ]
  },
  {
   "cell_type": "code",
   "execution_count": 11,
   "metadata": {},
   "outputs": [
    {
     "name": "stdout",
     "output_type": "stream",
     "text": [
      "<class 'pandas.core.frame.DataFrame'>\n",
      "RangeIndex: 9545 entries, 0 to 9544\n",
      "Data columns (total 11 columns):\n",
      "Engine Fuel Type     9545 non-null float64\n",
      "Engine HP            9545 non-null float64\n",
      "Engine Cylinders     9545 non-null float64\n",
      "Transmission Type    9545 non-null int64\n",
      "Driven_Wheels        9545 non-null int64\n",
      "Number of Doors      9545 non-null float64\n",
      "Vehicle Size         9545 non-null int64\n",
      "highway MPG          9545 non-null int64\n",
      "city mpg             9545 non-null int64\n",
      "MSRP                 9545 non-null int64\n",
      "Age                  9545 non-null int64\n",
      "dtypes: float64(4), int64(7)\n",
      "memory usage: 820.3 KB\n"
     ]
    }
   ],
   "source": [
    "data.info()"
   ]
  },
  {
   "cell_type": "code",
   "execution_count": null,
   "metadata": {},
   "outputs": [],
   "source": []
  }
 ],
 "metadata": {
  "kernelspec": {
   "display_name": "Python 3",
   "language": "python",
   "name": "python3"
  },
  "language_info": {
   "codemirror_mode": {
    "name": "ipython",
    "version": 3
   },
   "file_extension": ".py",
   "mimetype": "text/x-python",
   "name": "python",
   "nbconvert_exporter": "python",
   "pygments_lexer": "ipython3",
   "version": "3.7.1"
  }
 },
 "nbformat": 4,
 "nbformat_minor": 2
}
