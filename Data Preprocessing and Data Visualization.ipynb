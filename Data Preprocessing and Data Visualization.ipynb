{
 "cells": [
  {
   "cell_type": "code",
   "execution_count": 1,
   "metadata": {},
   "outputs": [
    {
     "name": "stdout",
     "output_type": "stream",
     "text": [
      "<class 'pandas.core.frame.DataFrame'>\n",
      "RangeIndex: 11914 entries, 0 to 11913\n",
      "Data columns (total 16 columns):\n",
      "Make                 11914 non-null object\n",
      "Model                11914 non-null object\n",
      "Year                 11914 non-null int64\n",
      "Engine Fuel Type     11911 non-null object\n",
      "Engine HP            11845 non-null float64\n",
      "Engine Cylinders     11884 non-null float64\n",
      "Transmission Type    11914 non-null object\n",
      "Driven_Wheels        11914 non-null object\n",
      "Number of Doors      11908 non-null float64\n",
      "Market Category      8172 non-null object\n",
      "Vehicle Size         11914 non-null object\n",
      "Vehicle Style        11914 non-null object\n",
      "highway MPG          11914 non-null int64\n",
      "city mpg             11914 non-null int64\n",
      "Popularity           11914 non-null int64\n",
      "MSRP                 11914 non-null int64\n",
      "dtypes: float64(3), int64(5), object(8)\n",
      "memory usage: 1.1+ MB\n"
     ]
    }
   ],
   "source": [
    "import pandas as pd\n",
    "import seaborn as sns\n",
    "import matplotlib.pyplot as plt\n",
    "import numpy as np\n",
    "import math\n",
    "from pandas.plotting import scatter_matrix\n",
    "\n",
    "###Data Preprocessing\n",
    "cp = pd.read_csv(\"data.csv\")\n",
    "cp.info()"
   ]
  },
  {
   "cell_type": "code",
   "execution_count": 2,
   "metadata": {},
   "outputs": [
    {
     "data": {
      "text/html": [
       "<div>\n",
       "<style scoped>\n",
       "    .dataframe tbody tr th:only-of-type {\n",
       "        vertical-align: middle;\n",
       "    }\n",
       "\n",
       "    .dataframe tbody tr th {\n",
       "        vertical-align: top;\n",
       "    }\n",
       "\n",
       "    .dataframe thead th {\n",
       "        text-align: right;\n",
       "    }\n",
       "</style>\n",
       "<table border=\"1\" class=\"dataframe\">\n",
       "  <thead>\n",
       "    <tr style=\"text-align: right;\">\n",
       "      <th></th>\n",
       "      <th>Make</th>\n",
       "      <th>Model</th>\n",
       "      <th>Year</th>\n",
       "      <th>Engine Fuel Type</th>\n",
       "      <th>Engine HP</th>\n",
       "      <th>Engine Cylinders</th>\n",
       "      <th>Transmission Type</th>\n",
       "      <th>Driven_Wheels</th>\n",
       "      <th>Number of Doors</th>\n",
       "      <th>Market Category</th>\n",
       "      <th>Vehicle Size</th>\n",
       "      <th>Vehicle Style</th>\n",
       "      <th>highway MPG</th>\n",
       "      <th>city mpg</th>\n",
       "      <th>Popularity</th>\n",
       "      <th>MSRP</th>\n",
       "    </tr>\n",
       "  </thead>\n",
       "  <tbody>\n",
       "    <tr>\n",
       "      <th>0</th>\n",
       "      <td>BMW</td>\n",
       "      <td>1 Series M</td>\n",
       "      <td>2011</td>\n",
       "      <td>premium unleaded (required)</td>\n",
       "      <td>335.0</td>\n",
       "      <td>6.0</td>\n",
       "      <td>MANUAL</td>\n",
       "      <td>rear wheel drive</td>\n",
       "      <td>2.0</td>\n",
       "      <td>Factory Tuner,Luxury,High-Performance</td>\n",
       "      <td>Compact</td>\n",
       "      <td>Coupe</td>\n",
       "      <td>26</td>\n",
       "      <td>19</td>\n",
       "      <td>3916</td>\n",
       "      <td>46135</td>\n",
       "    </tr>\n",
       "    <tr>\n",
       "      <th>1</th>\n",
       "      <td>BMW</td>\n",
       "      <td>1 Series</td>\n",
       "      <td>2011</td>\n",
       "      <td>premium unleaded (required)</td>\n",
       "      <td>300.0</td>\n",
       "      <td>6.0</td>\n",
       "      <td>MANUAL</td>\n",
       "      <td>rear wheel drive</td>\n",
       "      <td>2.0</td>\n",
       "      <td>Luxury,Performance</td>\n",
       "      <td>Compact</td>\n",
       "      <td>Convertible</td>\n",
       "      <td>28</td>\n",
       "      <td>19</td>\n",
       "      <td>3916</td>\n",
       "      <td>40650</td>\n",
       "    </tr>\n",
       "    <tr>\n",
       "      <th>2</th>\n",
       "      <td>BMW</td>\n",
       "      <td>1 Series</td>\n",
       "      <td>2011</td>\n",
       "      <td>premium unleaded (required)</td>\n",
       "      <td>300.0</td>\n",
       "      <td>6.0</td>\n",
       "      <td>MANUAL</td>\n",
       "      <td>rear wheel drive</td>\n",
       "      <td>2.0</td>\n",
       "      <td>Luxury,High-Performance</td>\n",
       "      <td>Compact</td>\n",
       "      <td>Coupe</td>\n",
       "      <td>28</td>\n",
       "      <td>20</td>\n",
       "      <td>3916</td>\n",
       "      <td>36350</td>\n",
       "    </tr>\n",
       "    <tr>\n",
       "      <th>3</th>\n",
       "      <td>BMW</td>\n",
       "      <td>1 Series</td>\n",
       "      <td>2011</td>\n",
       "      <td>premium unleaded (required)</td>\n",
       "      <td>230.0</td>\n",
       "      <td>6.0</td>\n",
       "      <td>MANUAL</td>\n",
       "      <td>rear wheel drive</td>\n",
       "      <td>2.0</td>\n",
       "      <td>Luxury,Performance</td>\n",
       "      <td>Compact</td>\n",
       "      <td>Coupe</td>\n",
       "      <td>28</td>\n",
       "      <td>18</td>\n",
       "      <td>3916</td>\n",
       "      <td>29450</td>\n",
       "    </tr>\n",
       "    <tr>\n",
       "      <th>4</th>\n",
       "      <td>BMW</td>\n",
       "      <td>1 Series</td>\n",
       "      <td>2011</td>\n",
       "      <td>premium unleaded (required)</td>\n",
       "      <td>230.0</td>\n",
       "      <td>6.0</td>\n",
       "      <td>MANUAL</td>\n",
       "      <td>rear wheel drive</td>\n",
       "      <td>2.0</td>\n",
       "      <td>Luxury</td>\n",
       "      <td>Compact</td>\n",
       "      <td>Convertible</td>\n",
       "      <td>28</td>\n",
       "      <td>18</td>\n",
       "      <td>3916</td>\n",
       "      <td>34500</td>\n",
       "    </tr>\n",
       "  </tbody>\n",
       "</table>\n",
       "</div>"
      ],
      "text/plain": [
       "  Make       Model  Year             Engine Fuel Type  Engine HP  \\\n",
       "0  BMW  1 Series M  2011  premium unleaded (required)      335.0   \n",
       "1  BMW    1 Series  2011  premium unleaded (required)      300.0   \n",
       "2  BMW    1 Series  2011  premium unleaded (required)      300.0   \n",
       "3  BMW    1 Series  2011  premium unleaded (required)      230.0   \n",
       "4  BMW    1 Series  2011  premium unleaded (required)      230.0   \n",
       "\n",
       "   Engine Cylinders Transmission Type     Driven_Wheels  Number of Doors  \\\n",
       "0               6.0            MANUAL  rear wheel drive              2.0   \n",
       "1               6.0            MANUAL  rear wheel drive              2.0   \n",
       "2               6.0            MANUAL  rear wheel drive              2.0   \n",
       "3               6.0            MANUAL  rear wheel drive              2.0   \n",
       "4               6.0            MANUAL  rear wheel drive              2.0   \n",
       "\n",
       "                         Market Category Vehicle Size Vehicle Style  \\\n",
       "0  Factory Tuner,Luxury,High-Performance      Compact         Coupe   \n",
       "1                     Luxury,Performance      Compact   Convertible   \n",
       "2                Luxury,High-Performance      Compact         Coupe   \n",
       "3                     Luxury,Performance      Compact         Coupe   \n",
       "4                                 Luxury      Compact   Convertible   \n",
       "\n",
       "   highway MPG  city mpg  Popularity   MSRP  \n",
       "0           26        19        3916  46135  \n",
       "1           28        19        3916  40650  \n",
       "2           28        20        3916  36350  \n",
       "3           28        18        3916  29450  \n",
       "4           28        18        3916  34500  "
      ]
     },
     "execution_count": 2,
     "metadata": {},
     "output_type": "execute_result"
    }
   ],
   "source": [
    "cp.head()"
   ]
  },
  {
   "cell_type": "code",
   "execution_count": 3,
   "metadata": {},
   "outputs": [
    {
     "data": {
      "text/plain": [
       "AUTOMATIC           8266\n",
       "MANUAL              2935\n",
       "AUTOMATED_MANUAL     626\n",
       "DIRECT_DRIVE          68\n",
       "UNKNOWN               19\n",
       "Name: Transmission Type, dtype: int64"
      ]
     },
     "execution_count": 3,
     "metadata": {},
     "output_type": "execute_result"
    }
   ],
   "source": [
    "cp['Transmission Type'].value_counts()"
   ]
  },
  {
   "cell_type": "code",
   "execution_count": 4,
   "metadata": {},
   "outputs": [
    {
     "data": {
      "text/plain": [
       "AUTOMATIC           8266\n",
       "MANUAL              2935\n",
       "AUTOMATED_MANUAL     626\n",
       "DIRECT_DRIVE          68\n",
       "Name: Transmission Type, dtype: int64"
      ]
     },
     "execution_count": 4,
     "metadata": {},
     "output_type": "execute_result"
    }
   ],
   "source": [
    "#Remove the rows that contain 'UNKNOWN'\n",
    "cp = cp[cp['Transmission Type'] != 'UNKNOWN']\n",
    "cp['Transmission Type'].value_counts()"
   ]
  },
  {
   "cell_type": "code",
   "execution_count": 5,
   "metadata": {},
   "outputs": [
    {
     "name": "stdout",
     "output_type": "stream",
     "text": [
      "<class 'pandas.core.frame.DataFrame'>\n",
      "Int64Index: 11895 entries, 0 to 11913\n",
      "Data columns (total 16 columns):\n",
      "Make                 11895 non-null object\n",
      "Model                11895 non-null object\n",
      "Year                 11895 non-null int64\n",
      "Engine Fuel Type     11892 non-null object\n",
      "Engine HP            11826 non-null float64\n",
      "Engine Cylinders     11865 non-null float64\n",
      "Transmission Type    11895 non-null object\n",
      "Driven_Wheels        11895 non-null object\n",
      "Number of Doors      11889 non-null float64\n",
      "Market Category      8169 non-null object\n",
      "Vehicle Size         11895 non-null object\n",
      "Vehicle Style        11895 non-null object\n",
      "highway MPG          11895 non-null int64\n",
      "city mpg             11895 non-null int64\n",
      "Popularity           11895 non-null int64\n",
      "MSRP                 11895 non-null int64\n",
      "dtypes: float64(3), int64(5), object(8)\n",
      "memory usage: 1.2+ MB\n"
     ]
    }
   ],
   "source": [
    "cp.info()"
   ]
  },
  {
   "cell_type": "code",
   "execution_count": 6,
   "metadata": {},
   "outputs": [
    {
     "data": {
      "text/plain": [
       "2    8266\n",
       "1    2935\n",
       "3     626\n",
       "4      68\n",
       "Name: Transmission Type, dtype: int64"
      ]
     },
     "execution_count": 6,
     "metadata": {},
     "output_type": "execute_result"
    }
   ],
   "source": [
    "###Converting Transmission Type to numeric value\n",
    "cp = cp.replace({'AUTOMATIC':'2'})\n",
    "cp = cp.replace({'MANUAL':'1'})\n",
    "cp = cp.replace({'AUTOMATED_MANUAL':'3'})\n",
    "cp = cp.replace({'DIRECT_DRIVE':'4'})\n",
    "cp['Transmission Type'].value_counts()"
   ]
  },
  {
   "cell_type": "code",
   "execution_count": 7,
   "metadata": {},
   "outputs": [
    {
     "name": "stdout",
     "output_type": "stream",
     "text": [
      "<class 'pandas.core.frame.DataFrame'>\n",
      "Int64Index: 11895 entries, 0 to 11913\n",
      "Data columns (total 16 columns):\n",
      "Make                 11895 non-null object\n",
      "Model                11895 non-null object\n",
      "Year                 11895 non-null int64\n",
      "Engine Fuel Type     11892 non-null object\n",
      "Engine HP            11826 non-null float64\n",
      "Engine Cylinders     11865 non-null float64\n",
      "Transmission Type    11895 non-null object\n",
      "Driven_Wheels        11895 non-null object\n",
      "Number of Doors      11889 non-null float64\n",
      "Market Category      8169 non-null object\n",
      "Vehicle Size         11895 non-null object\n",
      "Vehicle Style        11895 non-null object\n",
      "highway MPG          11895 non-null int64\n",
      "city mpg             11895 non-null int64\n",
      "Popularity           11895 non-null int64\n",
      "MSRP                 11895 non-null int64\n",
      "dtypes: float64(3), int64(5), object(8)\n",
      "memory usage: 1.2+ MB\n"
     ]
    }
   ],
   "source": [
    "cp.info()"
   ]
  },
  {
   "cell_type": "code",
   "execution_count": 8,
   "metadata": {},
   "outputs": [
    {
     "name": "stdout",
     "output_type": "stream",
     "text": [
      "<class 'pandas.core.frame.DataFrame'>\n",
      "Int64Index: 11895 entries, 0 to 11913\n",
      "Data columns (total 16 columns):\n",
      "Make                 11895 non-null object\n",
      "Model                11895 non-null object\n",
      "Year                 11895 non-null int64\n",
      "Engine Fuel Type     11892 non-null object\n",
      "Engine HP            11826 non-null float64\n",
      "Engine Cylinders     11865 non-null float64\n",
      "Transmission Type    11895 non-null int64\n",
      "Driven_Wheels        11895 non-null object\n",
      "Number of Doors      11889 non-null float64\n",
      "Market Category      8169 non-null object\n",
      "Vehicle Size         11895 non-null object\n",
      "Vehicle Style        11895 non-null object\n",
      "highway MPG          11895 non-null int64\n",
      "city mpg             11895 non-null int64\n",
      "Popularity           11895 non-null int64\n",
      "MSRP                 11895 non-null int64\n",
      "dtypes: float64(3), int64(6), object(7)\n",
      "memory usage: 1.2+ MB\n"
     ]
    }
   ],
   "source": [
    "###Converting Transmission Type datatype to numeric \n",
    "cp[\"Transmission Type\"] = pd.to_numeric(cp[\"Transmission Type\"])\n",
    "cp.info()"
   ]
  },
  {
   "cell_type": "code",
   "execution_count": 9,
   "metadata": {},
   "outputs": [
    {
     "data": {
      "text/html": [
       "<div>\n",
       "<style scoped>\n",
       "    .dataframe tbody tr th:only-of-type {\n",
       "        vertical-align: middle;\n",
       "    }\n",
       "\n",
       "    .dataframe tbody tr th {\n",
       "        vertical-align: top;\n",
       "    }\n",
       "\n",
       "    .dataframe thead th {\n",
       "        text-align: right;\n",
       "    }\n",
       "</style>\n",
       "<table border=\"1\" class=\"dataframe\">\n",
       "  <thead>\n",
       "    <tr style=\"text-align: right;\">\n",
       "      <th></th>\n",
       "      <th>Make</th>\n",
       "      <th>Model</th>\n",
       "      <th>Year</th>\n",
       "      <th>Engine Fuel Type</th>\n",
       "      <th>Engine HP</th>\n",
       "      <th>Engine Cylinders</th>\n",
       "      <th>Transmission Type</th>\n",
       "      <th>Driven_Wheels</th>\n",
       "      <th>Number of Doors</th>\n",
       "      <th>Vehicle Size</th>\n",
       "      <th>Vehicle Style</th>\n",
       "      <th>highway MPG</th>\n",
       "      <th>city mpg</th>\n",
       "      <th>MSRP</th>\n",
       "      <th>Age</th>\n",
       "    </tr>\n",
       "  </thead>\n",
       "  <tbody>\n",
       "    <tr>\n",
       "      <th>0</th>\n",
       "      <td>BMW</td>\n",
       "      <td>1 Series M</td>\n",
       "      <td>2011</td>\n",
       "      <td>premium unleaded (required)</td>\n",
       "      <td>335.0</td>\n",
       "      <td>6.0</td>\n",
       "      <td>1</td>\n",
       "      <td>rear wheel drive</td>\n",
       "      <td>2.0</td>\n",
       "      <td>Compact</td>\n",
       "      <td>Coupe</td>\n",
       "      <td>26</td>\n",
       "      <td>19</td>\n",
       "      <td>46135</td>\n",
       "      <td>6</td>\n",
       "    </tr>\n",
       "    <tr>\n",
       "      <th>1</th>\n",
       "      <td>BMW</td>\n",
       "      <td>1 Series</td>\n",
       "      <td>2011</td>\n",
       "      <td>premium unleaded (required)</td>\n",
       "      <td>300.0</td>\n",
       "      <td>6.0</td>\n",
       "      <td>1</td>\n",
       "      <td>rear wheel drive</td>\n",
       "      <td>2.0</td>\n",
       "      <td>Compact</td>\n",
       "      <td>Convertible</td>\n",
       "      <td>28</td>\n",
       "      <td>19</td>\n",
       "      <td>40650</td>\n",
       "      <td>6</td>\n",
       "    </tr>\n",
       "    <tr>\n",
       "      <th>2</th>\n",
       "      <td>BMW</td>\n",
       "      <td>1 Series</td>\n",
       "      <td>2011</td>\n",
       "      <td>premium unleaded (required)</td>\n",
       "      <td>300.0</td>\n",
       "      <td>6.0</td>\n",
       "      <td>1</td>\n",
       "      <td>rear wheel drive</td>\n",
       "      <td>2.0</td>\n",
       "      <td>Compact</td>\n",
       "      <td>Coupe</td>\n",
       "      <td>28</td>\n",
       "      <td>20</td>\n",
       "      <td>36350</td>\n",
       "      <td>6</td>\n",
       "    </tr>\n",
       "    <tr>\n",
       "      <th>3</th>\n",
       "      <td>BMW</td>\n",
       "      <td>1 Series</td>\n",
       "      <td>2011</td>\n",
       "      <td>premium unleaded (required)</td>\n",
       "      <td>230.0</td>\n",
       "      <td>6.0</td>\n",
       "      <td>1</td>\n",
       "      <td>rear wheel drive</td>\n",
       "      <td>2.0</td>\n",
       "      <td>Compact</td>\n",
       "      <td>Coupe</td>\n",
       "      <td>28</td>\n",
       "      <td>18</td>\n",
       "      <td>29450</td>\n",
       "      <td>6</td>\n",
       "    </tr>\n",
       "    <tr>\n",
       "      <th>4</th>\n",
       "      <td>BMW</td>\n",
       "      <td>1 Series</td>\n",
       "      <td>2011</td>\n",
       "      <td>premium unleaded (required)</td>\n",
       "      <td>230.0</td>\n",
       "      <td>6.0</td>\n",
       "      <td>1</td>\n",
       "      <td>rear wheel drive</td>\n",
       "      <td>2.0</td>\n",
       "      <td>Compact</td>\n",
       "      <td>Convertible</td>\n",
       "      <td>28</td>\n",
       "      <td>18</td>\n",
       "      <td>34500</td>\n",
       "      <td>6</td>\n",
       "    </tr>\n",
       "  </tbody>\n",
       "</table>\n",
       "</div>"
      ],
      "text/plain": [
       "  Make       Model  Year             Engine Fuel Type  Engine HP  \\\n",
       "0  BMW  1 Series M  2011  premium unleaded (required)      335.0   \n",
       "1  BMW    1 Series  2011  premium unleaded (required)      300.0   \n",
       "2  BMW    1 Series  2011  premium unleaded (required)      300.0   \n",
       "3  BMW    1 Series  2011  premium unleaded (required)      230.0   \n",
       "4  BMW    1 Series  2011  premium unleaded (required)      230.0   \n",
       "\n",
       "   Engine Cylinders  Transmission Type     Driven_Wheels  Number of Doors  \\\n",
       "0               6.0                  1  rear wheel drive              2.0   \n",
       "1               6.0                  1  rear wheel drive              2.0   \n",
       "2               6.0                  1  rear wheel drive              2.0   \n",
       "3               6.0                  1  rear wheel drive              2.0   \n",
       "4               6.0                  1  rear wheel drive              2.0   \n",
       "\n",
       "  Vehicle Size Vehicle Style  highway MPG  city mpg   MSRP  Age  \n",
       "0      Compact         Coupe           26        19  46135    6  \n",
       "1      Compact   Convertible           28        19  40650    6  \n",
       "2      Compact         Coupe           28        20  36350    6  \n",
       "3      Compact         Coupe           28        18  29450    6  \n",
       "4      Compact   Convertible           28        18  34500    6  "
      ]
     },
     "execution_count": 9,
     "metadata": {},
     "output_type": "execute_result"
    }
   ],
   "source": [
    "###Drop column Popularity and Market Category as Both of them does not really affect MSRP\n",
    "cp = cp.drop('Popularity',axis=1)\n",
    "cp = cp.drop('Market Category',axis=1)\n",
    "\n",
    "###Calculate The age of the car from 2017 since the dataset published in 2017\n",
    "cp['Age']=2017-cp['Year']\n",
    "cp.head()"
   ]
  },
  {
   "cell_type": "code",
   "execution_count": 10,
   "metadata": {},
   "outputs": [
    {
     "data": {
      "text/plain": [
       "False"
      ]
     },
     "execution_count": 10,
     "metadata": {},
     "output_type": "execute_result"
    }
   ],
   "source": [
    "##Check null values for Age\n",
    "cp['Age'].isnull().any()"
   ]
  },
  {
   "cell_type": "code",
   "execution_count": 11,
   "metadata": {},
   "outputs": [],
   "source": [
    "## Removing Duplicates\n",
    "cp.drop_duplicates(keep=False,inplace=True) "
   ]
  },
  {
   "cell_type": "code",
   "execution_count": 12,
   "metadata": {},
   "outputs": [
    {
     "name": "stdout",
     "output_type": "stream",
     "text": [
      "<class 'pandas.core.frame.DataFrame'>\n",
      "Int64Index: 10562 entries, 0 to 11913\n",
      "Data columns (total 15 columns):\n",
      "Make                 10562 non-null object\n",
      "Model                10562 non-null object\n",
      "Year                 10562 non-null int64\n",
      "Engine Fuel Type     10559 non-null object\n",
      "Engine HP            10493 non-null float64\n",
      "Engine Cylinders     10532 non-null float64\n",
      "Transmission Type    10562 non-null int64\n",
      "Driven_Wheels        10562 non-null object\n",
      "Number of Doors      10556 non-null float64\n",
      "Vehicle Size         10562 non-null object\n",
      "Vehicle Style        10562 non-null object\n",
      "highway MPG          10562 non-null int64\n",
      "city mpg             10562 non-null int64\n",
      "MSRP                 10562 non-null int64\n",
      "Age                  10562 non-null int64\n",
      "dtypes: float64(3), int64(6), object(6)\n",
      "memory usage: 1.0+ MB\n"
     ]
    }
   ],
   "source": [
    "cp.info()"
   ]
  },
  {
   "cell_type": "code",
   "execution_count": 13,
   "metadata": {},
   "outputs": [
    {
     "data": {
      "text/plain": [
       "count         10562\n",
       "unique           48\n",
       "top       Chevrolet\n",
       "freq           1051\n",
       "Name: Make, dtype: object"
      ]
     },
     "execution_count": 13,
     "metadata": {},
     "output_type": "execute_result"
    }
   ],
   "source": [
    "###Checking Unique values\n",
    "cp['Make'].describe()"
   ]
  },
  {
   "cell_type": "code",
   "execution_count": 14,
   "metadata": {},
   "outputs": [
    {
     "data": {
      "text/plain": [
       "count              10562\n",
       "unique               897\n",
       "top       Silverado 1500\n",
       "freq                 156\n",
       "Name: Model, dtype: object"
      ]
     },
     "execution_count": 14,
     "metadata": {},
     "output_type": "execute_result"
    }
   ],
   "source": [
    "cp['Model'].describe()"
   ]
  },
  {
   "cell_type": "code",
   "execution_count": 15,
   "metadata": {},
   "outputs": [
    {
     "data": {
      "text/plain": [
       "count                10559\n",
       "unique                  10\n",
       "top       regular unleaded\n",
       "freq                  6214\n",
       "Name: Engine Fuel Type, dtype: object"
      ]
     },
     "execution_count": 15,
     "metadata": {},
     "output_type": "execute_result"
    }
   ],
   "source": [
    "cp['Engine Fuel Type'].describe()"
   ]
  },
  {
   "cell_type": "code",
   "execution_count": 16,
   "metadata": {},
   "outputs": [
    {
     "data": {
      "text/plain": [
       "array(['rear wheel drive', 'all wheel drive', 'front wheel drive',\n",
       "       'four wheel drive'], dtype=object)"
      ]
     },
     "execution_count": 16,
     "metadata": {},
     "output_type": "execute_result"
    }
   ],
   "source": [
    "cp['Driven_Wheels'].unique()"
   ]
  },
  {
   "cell_type": "code",
   "execution_count": 17,
   "metadata": {},
   "outputs": [
    {
     "data": {
      "text/plain": [
       "2    3935\n",
       "3    3535\n",
       "1    3092\n",
       "Name: Driven_Wheels, dtype: int64"
      ]
     },
     "execution_count": 17,
     "metadata": {},
     "output_type": "execute_result"
    }
   ],
   "source": [
    "###Converting Driven_Wheels to numeric value\n",
    "cp = cp.replace({'rear wheel drive':'1'})\n",
    "cp = cp.replace({'all wheel drive':'3'})\n",
    "cp = cp.replace({'front wheel drive':'2'})\n",
    "cp = cp.replace({'four wheel drive':'3'})\n",
    "cp[\"Driven_Wheels\"] = pd.to_numeric(cp[\"Driven_Wheels\"])\n",
    "cp['Driven_Wheels'].value_counts()"
   ]
  },
  {
   "cell_type": "code",
   "execution_count": 18,
   "metadata": {},
   "outputs": [
    {
     "data": {
      "text/plain": [
       "array(['premium unleaded (required)', 'regular unleaded',\n",
       "       'premium unleaded (recommended)', 'flex-fuel (unleaded/E85)',\n",
       "       'diesel', 'electric',\n",
       "       'flex-fuel (premium unleaded recommended/E85)', 'natural gas',\n",
       "       'flex-fuel (premium unleaded required/E85)',\n",
       "       'flex-fuel (unleaded/natural gas)', nan], dtype=object)"
      ]
     },
     "execution_count": 18,
     "metadata": {},
     "output_type": "execute_result"
    }
   ],
   "source": [
    "cp['Engine Fuel Type'].unique()"
   ]
  },
  {
   "cell_type": "code",
   "execution_count": 19,
   "metadata": {},
   "outputs": [
    {
     "data": {
      "text/plain": [
       "2.0     6214\n",
       "1.0     1905\n",
       "3.0     1267\n",
       "4.0      875\n",
       "5.0      146\n",
       "6.0       66\n",
       "9.0       52\n",
       "7.0       26\n",
       "10.0       6\n",
       "8.0        2\n",
       "Name: Engine Fuel Type, dtype: int64"
      ]
     },
     "execution_count": 19,
     "metadata": {},
     "output_type": "execute_result"
    }
   ],
   "source": [
    "###Converting Engine Fuel Type to numeric\n",
    "cp = cp.replace({'premium unleaded (required)':'1'})\n",
    "cp = cp.replace({'regular unleaded':'2'})\n",
    "cp = cp.replace({'premium unleaded (recommended)':'3'})\n",
    "cp = cp.replace({'flex-fuel (unleaded/E85)':'4'})\n",
    "cp = cp.replace({'diesel':'5'})\n",
    "cp = cp.replace({'electric':'6'})\n",
    "cp = cp.replace({'flex-fuel (premium unleaded recommended/E85)':'7'})\n",
    "cp = cp.replace({'natural gas':'8'})\n",
    "cp = cp.replace({'flex-fuel (premium unleaded required/E85)':'9'})\n",
    "cp = cp.replace({'flex-fuel (unleaded/natural gas)':'10'})\n",
    "cp[\"Engine Fuel Type\"] = pd.to_numeric(cp[\"Engine Fuel Type\"])\n",
    "cp['Engine Fuel Type'].value_counts()"
   ]
  },
  {
   "cell_type": "code",
   "execution_count": 20,
   "metadata": {},
   "outputs": [
    {
     "data": {
      "text/plain": [
       "True"
      ]
     },
     "execution_count": 20,
     "metadata": {},
     "output_type": "execute_result"
    }
   ],
   "source": [
    "##check null values\n",
    "cp['Engine Fuel Type'].isnull().any()"
   ]
  },
  {
   "cell_type": "code",
   "execution_count": 21,
   "metadata": {},
   "outputs": [
    {
     "data": {
      "text/plain": [
       "False"
      ]
     },
     "execution_count": 21,
     "metadata": {},
     "output_type": "execute_result"
    }
   ],
   "source": [
    "##Drop null values\n",
    "cp=cp.dropna()\n",
    "cp['Engine Fuel Type'].isnull().any()"
   ]
  },
  {
   "cell_type": "code",
   "execution_count": 22,
   "metadata": {},
   "outputs": [
    {
     "data": {
      "text/plain": [
       "array(['Compact', 'Midsize', 'Large'], dtype=object)"
      ]
     },
     "execution_count": 22,
     "metadata": {},
     "output_type": "execute_result"
    }
   ],
   "source": [
    "cp['Vehicle Size'].unique()"
   ]
  },
  {
   "cell_type": "code",
   "execution_count": 23,
   "metadata": {},
   "outputs": [
    {
     "data": {
      "text/plain": [
       "1    3998\n",
       "2    3869\n",
       "3    2593\n",
       "Name: Vehicle Size, dtype: int64"
      ]
     },
     "execution_count": 23,
     "metadata": {},
     "output_type": "execute_result"
    }
   ],
   "source": [
    "###Converting Vehicle Size to numeric\n",
    "cp = cp.replace({'Compact':'1'})\n",
    "cp = cp.replace({'Midsize':'2'})\n",
    "cp = cp.replace({'Large':'3'})\n",
    "cp[\"Vehicle Size\"] = pd.to_numeric(cp[\"Vehicle Size\"])\n",
    "cp['Vehicle Size'].value_counts()"
   ]
  },
  {
   "cell_type": "code",
   "execution_count": 24,
   "metadata": {},
   "outputs": [
    {
     "data": {
      "text/plain": [
       "array(['Coupe', 'Convertible', 'Wagon', 'Sedan', '4dr Hatchback',\n",
       "       '2dr Hatchback', '4dr SUV', 'Passenger Minivan', 'Cargo Minivan',\n",
       "       'Crew Cab Pickup', 'Regular Cab Pickup', 'Extended Cab Pickup',\n",
       "       '2dr SUV', 'Cargo Van', 'Convertible SUV', 'Passenger Van'],\n",
       "      dtype=object)"
      ]
     },
     "execution_count": 24,
     "metadata": {},
     "output_type": "execute_result"
    }
   ],
   "source": [
    "cp['Vehicle Style'].unique()"
   ]
  },
  {
   "cell_type": "code",
   "execution_count": 25,
   "metadata": {},
   "outputs": [
    {
     "data": {
      "text/html": [
       "<div>\n",
       "<style scoped>\n",
       "    .dataframe tbody tr th:only-of-type {\n",
       "        vertical-align: middle;\n",
       "    }\n",
       "\n",
       "    .dataframe tbody tr th {\n",
       "        vertical-align: top;\n",
       "    }\n",
       "\n",
       "    .dataframe thead th {\n",
       "        text-align: right;\n",
       "    }\n",
       "</style>\n",
       "<table border=\"1\" class=\"dataframe\">\n",
       "  <thead>\n",
       "    <tr style=\"text-align: right;\">\n",
       "      <th></th>\n",
       "      <th>Make</th>\n",
       "      <th>Model</th>\n",
       "      <th>Year</th>\n",
       "      <th>Engine Fuel Type</th>\n",
       "      <th>Engine HP</th>\n",
       "      <th>Engine Cylinders</th>\n",
       "      <th>Transmission Type</th>\n",
       "      <th>Driven_Wheels</th>\n",
       "      <th>Number of Doors</th>\n",
       "      <th>Vehicle Size</th>\n",
       "      <th>Vehicle Style</th>\n",
       "      <th>highway MPG</th>\n",
       "      <th>city mpg</th>\n",
       "      <th>MSRP</th>\n",
       "      <th>Age</th>\n",
       "    </tr>\n",
       "  </thead>\n",
       "  <tbody>\n",
       "    <tr>\n",
       "      <th>0</th>\n",
       "      <td>BMW</td>\n",
       "      <td>1 Series M</td>\n",
       "      <td>2011</td>\n",
       "      <td>1.0</td>\n",
       "      <td>335.0</td>\n",
       "      <td>6.0</td>\n",
       "      <td>1</td>\n",
       "      <td>1</td>\n",
       "      <td>2.0</td>\n",
       "      <td>1</td>\n",
       "      <td>Coupe</td>\n",
       "      <td>26</td>\n",
       "      <td>19</td>\n",
       "      <td>46135</td>\n",
       "      <td>6</td>\n",
       "    </tr>\n",
       "    <tr>\n",
       "      <th>1</th>\n",
       "      <td>BMW</td>\n",
       "      <td>1 Series</td>\n",
       "      <td>2011</td>\n",
       "      <td>1.0</td>\n",
       "      <td>300.0</td>\n",
       "      <td>6.0</td>\n",
       "      <td>1</td>\n",
       "      <td>1</td>\n",
       "      <td>2.0</td>\n",
       "      <td>1</td>\n",
       "      <td>Convertible</td>\n",
       "      <td>28</td>\n",
       "      <td>19</td>\n",
       "      <td>40650</td>\n",
       "      <td>6</td>\n",
       "    </tr>\n",
       "    <tr>\n",
       "      <th>2</th>\n",
       "      <td>BMW</td>\n",
       "      <td>1 Series</td>\n",
       "      <td>2011</td>\n",
       "      <td>1.0</td>\n",
       "      <td>300.0</td>\n",
       "      <td>6.0</td>\n",
       "      <td>1</td>\n",
       "      <td>1</td>\n",
       "      <td>2.0</td>\n",
       "      <td>1</td>\n",
       "      <td>Coupe</td>\n",
       "      <td>28</td>\n",
       "      <td>20</td>\n",
       "      <td>36350</td>\n",
       "      <td>6</td>\n",
       "    </tr>\n",
       "    <tr>\n",
       "      <th>3</th>\n",
       "      <td>BMW</td>\n",
       "      <td>1 Series</td>\n",
       "      <td>2011</td>\n",
       "      <td>1.0</td>\n",
       "      <td>230.0</td>\n",
       "      <td>6.0</td>\n",
       "      <td>1</td>\n",
       "      <td>1</td>\n",
       "      <td>2.0</td>\n",
       "      <td>1</td>\n",
       "      <td>Coupe</td>\n",
       "      <td>28</td>\n",
       "      <td>18</td>\n",
       "      <td>29450</td>\n",
       "      <td>6</td>\n",
       "    </tr>\n",
       "    <tr>\n",
       "      <th>4</th>\n",
       "      <td>BMW</td>\n",
       "      <td>1 Series</td>\n",
       "      <td>2011</td>\n",
       "      <td>1.0</td>\n",
       "      <td>230.0</td>\n",
       "      <td>6.0</td>\n",
       "      <td>1</td>\n",
       "      <td>1</td>\n",
       "      <td>2.0</td>\n",
       "      <td>1</td>\n",
       "      <td>Convertible</td>\n",
       "      <td>28</td>\n",
       "      <td>18</td>\n",
       "      <td>34500</td>\n",
       "      <td>6</td>\n",
       "    </tr>\n",
       "  </tbody>\n",
       "</table>\n",
       "</div>"
      ],
      "text/plain": [
       "  Make       Model  Year  Engine Fuel Type  Engine HP  Engine Cylinders  \\\n",
       "0  BMW  1 Series M  2011               1.0      335.0               6.0   \n",
       "1  BMW    1 Series  2011               1.0      300.0               6.0   \n",
       "2  BMW    1 Series  2011               1.0      300.0               6.0   \n",
       "3  BMW    1 Series  2011               1.0      230.0               6.0   \n",
       "4  BMW    1 Series  2011               1.0      230.0               6.0   \n",
       "\n",
       "   Transmission Type  Driven_Wheels  Number of Doors  Vehicle Size  \\\n",
       "0                  1              1              2.0             1   \n",
       "1                  1              1              2.0             1   \n",
       "2                  1              1              2.0             1   \n",
       "3                  1              1              2.0             1   \n",
       "4                  1              1              2.0             1   \n",
       "\n",
       "  Vehicle Style  highway MPG  city mpg   MSRP  Age  \n",
       "0         Coupe           26        19  46135    6  \n",
       "1   Convertible           28        19  40650    6  \n",
       "2         Coupe           28        20  36350    6  \n",
       "3         Coupe           28        18  29450    6  \n",
       "4   Convertible           28        18  34500    6  "
      ]
     },
     "execution_count": 25,
     "metadata": {},
     "output_type": "execute_result"
    }
   ],
   "source": [
    "cp.head()"
   ]
  },
  {
   "cell_type": "code",
   "execution_count": 26,
   "metadata": {},
   "outputs": [
    {
     "data": {
      "text/html": [
       "<div>\n",
       "<style scoped>\n",
       "    .dataframe tbody tr th:only-of-type {\n",
       "        vertical-align: middle;\n",
       "    }\n",
       "\n",
       "    .dataframe tbody tr th {\n",
       "        vertical-align: top;\n",
       "    }\n",
       "\n",
       "    .dataframe thead th {\n",
       "        text-align: right;\n",
       "    }\n",
       "</style>\n",
       "<table border=\"1\" class=\"dataframe\">\n",
       "  <thead>\n",
       "    <tr style=\"text-align: right;\">\n",
       "      <th></th>\n",
       "      <th>Engine Fuel Type</th>\n",
       "      <th>Engine HP</th>\n",
       "      <th>Engine Cylinders</th>\n",
       "      <th>Transmission Type</th>\n",
       "      <th>Driven_Wheels</th>\n",
       "      <th>Number of Doors</th>\n",
       "      <th>Vehicle Size</th>\n",
       "      <th>highway MPG</th>\n",
       "      <th>city mpg</th>\n",
       "      <th>MSRP</th>\n",
       "      <th>Age</th>\n",
       "    </tr>\n",
       "  </thead>\n",
       "  <tbody>\n",
       "    <tr>\n",
       "      <th>0</th>\n",
       "      <td>1.0</td>\n",
       "      <td>335.0</td>\n",
       "      <td>6.0</td>\n",
       "      <td>1</td>\n",
       "      <td>1</td>\n",
       "      <td>2.0</td>\n",
       "      <td>1</td>\n",
       "      <td>26</td>\n",
       "      <td>19</td>\n",
       "      <td>46135</td>\n",
       "      <td>6</td>\n",
       "    </tr>\n",
       "    <tr>\n",
       "      <th>1</th>\n",
       "      <td>1.0</td>\n",
       "      <td>300.0</td>\n",
       "      <td>6.0</td>\n",
       "      <td>1</td>\n",
       "      <td>1</td>\n",
       "      <td>2.0</td>\n",
       "      <td>1</td>\n",
       "      <td>28</td>\n",
       "      <td>19</td>\n",
       "      <td>40650</td>\n",
       "      <td>6</td>\n",
       "    </tr>\n",
       "    <tr>\n",
       "      <th>2</th>\n",
       "      <td>1.0</td>\n",
       "      <td>300.0</td>\n",
       "      <td>6.0</td>\n",
       "      <td>1</td>\n",
       "      <td>1</td>\n",
       "      <td>2.0</td>\n",
       "      <td>1</td>\n",
       "      <td>28</td>\n",
       "      <td>20</td>\n",
       "      <td>36350</td>\n",
       "      <td>6</td>\n",
       "    </tr>\n",
       "    <tr>\n",
       "      <th>3</th>\n",
       "      <td>1.0</td>\n",
       "      <td>230.0</td>\n",
       "      <td>6.0</td>\n",
       "      <td>1</td>\n",
       "      <td>1</td>\n",
       "      <td>2.0</td>\n",
       "      <td>1</td>\n",
       "      <td>28</td>\n",
       "      <td>18</td>\n",
       "      <td>29450</td>\n",
       "      <td>6</td>\n",
       "    </tr>\n",
       "    <tr>\n",
       "      <th>4</th>\n",
       "      <td>1.0</td>\n",
       "      <td>230.0</td>\n",
       "      <td>6.0</td>\n",
       "      <td>1</td>\n",
       "      <td>1</td>\n",
       "      <td>2.0</td>\n",
       "      <td>1</td>\n",
       "      <td>28</td>\n",
       "      <td>18</td>\n",
       "      <td>34500</td>\n",
       "      <td>6</td>\n",
       "    </tr>\n",
       "  </tbody>\n",
       "</table>\n",
       "</div>"
      ],
      "text/plain": [
       "   Engine Fuel Type  Engine HP  Engine Cylinders  Transmission Type  \\\n",
       "0               1.0      335.0               6.0                  1   \n",
       "1               1.0      300.0               6.0                  1   \n",
       "2               1.0      300.0               6.0                  1   \n",
       "3               1.0      230.0               6.0                  1   \n",
       "4               1.0      230.0               6.0                  1   \n",
       "\n",
       "   Driven_Wheels  Number of Doors  Vehicle Size  highway MPG  city mpg   MSRP  \\\n",
       "0              1              2.0             1           26        19  46135   \n",
       "1              1              2.0             1           28        19  40650   \n",
       "2              1              2.0             1           28        20  36350   \n",
       "3              1              2.0             1           28        18  29450   \n",
       "4              1              2.0             1           28        18  34500   \n",
       "\n",
       "   Age  \n",
       "0    6  \n",
       "1    6  \n",
       "2    6  \n",
       "3    6  \n",
       "4    6  "
      ]
     },
     "execution_count": 26,
     "metadata": {},
     "output_type": "execute_result"
    }
   ],
   "source": [
    "###Drop Unnecessary columns\n",
    "cp = cp.drop('Make',axis=1)\n",
    "cp = cp.drop('Model',axis=1)\n",
    "cp = cp.drop('Year',axis=1)\n",
    "cp = cp.drop('Vehicle Style',axis=1)\n",
    "cp.head()"
   ]
  },
  {
   "cell_type": "code",
   "execution_count": 27,
   "metadata": {},
   "outputs": [
    {
     "name": "stdout",
     "output_type": "stream",
     "text": [
      "<class 'pandas.core.frame.DataFrame'>\n",
      "Int64Index: 10460 entries, 0 to 11913\n",
      "Data columns (total 11 columns):\n",
      "Engine Fuel Type     10460 non-null float64\n",
      "Engine HP            10460 non-null float64\n",
      "Engine Cylinders     10460 non-null float64\n",
      "Transmission Type    10460 non-null int64\n",
      "Driven_Wheels        10460 non-null int64\n",
      "Number of Doors      10460 non-null float64\n",
      "Vehicle Size         10460 non-null int64\n",
      "highway MPG          10460 non-null int64\n",
      "city mpg             10460 non-null int64\n",
      "MSRP                 10460 non-null int64\n",
      "Age                  10460 non-null int64\n",
      "dtypes: float64(4), int64(7)\n",
      "memory usage: 980.6 KB\n"
     ]
    }
   ],
   "source": [
    "cp.info()"
   ]
  },
  {
   "cell_type": "code",
   "execution_count": 28,
   "metadata": {},
   "outputs": [
    {
     "data": {
      "image/png": "[encoded data removed]",
      "text/plain": [
       "<Figure size 432x288 with 1 Axes>"
      ]
     },
     "metadata": {
      "needs_background": "light"
     },
     "output_type": "display_data"
    }
   ],
   "source": [
    "cp = cp[['Engine Fuel Type','Engine HP','Engine Cylinders','Transmission Type','Driven_Wheels',\n",
    "                  'Number of Doors','Vehicle Size','highway MPG','city mpg','Age','MSRP']]\n",
    "#check boxplot of continous features\n",
    "cp.boxplot(column=['Engine HP','Engine Cylinders','highway MPG','city mpg','Age','MSRP'])\n",
    "plt.xticks(rotation = 90);"
   ]
  },
  {
   "cell_type": "code",
   "execution_count": 29,
   "metadata": {},
   "outputs": [
    {
     "name": "stdout",
     "output_type": "stream",
     "text": [
      "<class 'pandas.core.frame.DataFrame'>\n",
      "Int64Index: 8720 entries, 0 to 11913\n",
      "Data columns (total 11 columns):\n",
      "Engine Fuel Type     8720 non-null float64\n",
      "Engine HP            8720 non-null float64\n",
      "Engine Cylinders     8720 non-null float64\n",
      "Transmission Type    8720 non-null int64\n",
      "Driven_Wheels        8720 non-null int64\n",
      "Number of Doors      8720 non-null float64\n",
      "Vehicle Size         8720 non-null int64\n",
      "highway MPG          8720 non-null int64\n",
      "city mpg             8720 non-null int64\n",
      "Age                  8720 non-null int64\n",
      "MSRP                 8720 non-null int64\n",
      "dtypes: float64(4), int64(7)\n",
      "memory usage: 817.5 KB\n"
     ]
    }
   ],
   "source": [
    "###Check outliers for MSRP\n",
    "Q1 = cp['Engine HP'].quantile(0.25)\n",
    "Q3 = cp['Engine HP'].quantile(0.75)\n",
    "IQR = Q3 - Q1\n",
    "cp = cp[~((cp['Engine HP'] <= (Q1 - (1.5 * IQR))) | (cp['Engine HP'] >= (Q3 + (1.5 * IQR))))]\n",
    "\n",
    "Q1 = cp['highway MPG'].quantile(0.25)\n",
    "Q3 = cp['highway MPG'].quantile(0.75)\n",
    "IQR = Q3 - Q1\n",
    "cp = cp[~((cp['highway MPG'] <= (Q1 - (1.5 * IQR))) | (cp['highway MPG'] >= (Q3 + (1.5 * IQR))))]\n",
    "\n",
    "Q1 = cp['city mpg'].quantile(0.25)\n",
    "Q3 = cp['city mpg'].quantile(0.75)\n",
    "IQR = Q3 - Q1\n",
    "cp = cp[~((cp['city mpg'] <= (Q1 - (1.5 * IQR))) | (cp['city mpg'] >= (Q3 + (1.5 * IQR))))]\n",
    "\n",
    "Q1 = cp['Engine Cylinders'].quantile(0.25)\n",
    "Q3 = cp['Engine Cylinders'].quantile(0.75)\n",
    "IQR = Q3 - Q1\n",
    "cp = cp[~((cp['Engine Cylinders'] <= (Q1 - (1.5 * IQR))) | (cp['Engine Cylinders'] >= (Q3 + (1.5 * IQR))))]\n",
    "\n",
    "Q1 = cp['Age'].quantile(0.25)\n",
    "Q3 = cp['Age'].quantile(0.75)\n",
    "IQR = Q3 - Q1\n",
    "cp = cp[~((cp['Age'] <= (Q1 - (1.5 * IQR))) | (cp['Age'] >= (Q3 + (1.5 * IQR))))]\n",
    "\n",
    "Q1 = cp['MSRP'].quantile(0.25)\n",
    "Q3 = cp['MSRP'].quantile(0.75)\n",
    "IQR = Q3 - Q1\n",
    "cp = cp[~((cp['MSRP'] <= (Q1 - (1.5 * IQR))) | (cp['MSRP'] >= (Q3 + (1.5 * IQR))))]\n",
    "    \n",
    "\n",
    "cp.info()"
   ]
  },
  {
   "cell_type": "code",
   "execution_count": 30,
   "metadata": {},
   "outputs": [],
   "source": [
    "cp.to_csv('cp.csv',index=False)"
   ]
  },
  {
   "cell_type": "code",
   "execution_count": 31,
   "metadata": {},
   "outputs": [
    {
     "data": {
      "image/png": "[encoded data removed]",
      "text/plain": [
       "<Figure size 792x648 with 2 Axes>"
      ]
     },
     "metadata": {
      "needs_background": "light"
     },
     "output_type": "display_data"
    }
   ],
   "source": [
    "###Data Visualization\n",
    "#Generate Correlation\n",
    "corr=cp.corr()\n",
    "\n",
    "mask = np.zeros_like(corr, dtype=np.bool)\n",
    "mask[np.triu_indices_from(mask)] = True\n",
    "\n",
    "f, ax = plt.subplots(figsize=(11, 9))\n",
    "\n",
    "cmap = sns.diverging_palette(220, 10, as_cmap=True)\n",
    "\n",
    "# Draw the heatmap with the mask and correct aspect ratio\n",
    "sns.heatmap(corr, mask=mask, cmap=cmap, vmax=1, center=0,\n",
    "            square=True, linewidths=.5, cbar_kws={\"shrink\": .5})\n",
    "plt.show()"
   ]
  },
  {
   "cell_type": "code",
   "execution_count": 32,
   "metadata": {},
   "outputs": [
    {
     "data": {
      "text/html": [
       "<div>\n",
       "<style scoped>\n",
       "    .dataframe tbody tr th:only-of-type {\n",
       "        vertical-align: middle;\n",
       "    }\n",
       "\n",
       "    .dataframe tbody tr th {\n",
       "        vertical-align: top;\n",
       "    }\n",
       "\n",
       "    .dataframe thead th {\n",
       "        text-align: right;\n",
       "    }\n",
       "</style>\n",
       "<table border=\"1\" class=\"dataframe\">\n",
       "  <thead>\n",
       "    <tr style=\"text-align: right;\">\n",
       "      <th></th>\n",
       "      <th>Engine Fuel Type</th>\n",
       "      <th>Engine HP</th>\n",
       "      <th>Engine Cylinders</th>\n",
       "      <th>Transmission Type</th>\n",
       "      <th>Driven_Wheels</th>\n",
       "      <th>Number of Doors</th>\n",
       "      <th>Vehicle Size</th>\n",
       "      <th>highway MPG</th>\n",
       "      <th>city mpg</th>\n",
       "      <th>Age</th>\n",
       "      <th>MSRP</th>\n",
       "    </tr>\n",
       "  </thead>\n",
       "  <tbody>\n",
       "    <tr>\n",
       "      <th>Engine Fuel Type</th>\n",
       "      <td>1.000000</td>\n",
       "      <td>0.101449</td>\n",
       "      <td>0.104000</td>\n",
       "      <td>0.115849</td>\n",
       "      <td>0.011921</td>\n",
       "      <td>0.007221</td>\n",
       "      <td>0.191534</td>\n",
       "      <td>-0.033940</td>\n",
       "      <td>-0.057399</td>\n",
       "      <td>-0.170706</td>\n",
       "      <td>0.087630</td>\n",
       "    </tr>\n",
       "    <tr>\n",
       "      <th>Engine HP</th>\n",
       "      <td>0.101449</td>\n",
       "      <td>1.000000</td>\n",
       "      <td>0.715015</td>\n",
       "      <td>0.229980</td>\n",
       "      <td>-0.042120</td>\n",
       "      <td>0.032308</td>\n",
       "      <td>0.549343</td>\n",
       "      <td>-0.432033</td>\n",
       "      <td>-0.536901</td>\n",
       "      <td>-0.356089</td>\n",
       "      <td>0.732723</td>\n",
       "    </tr>\n",
       "    <tr>\n",
       "      <th>Engine Cylinders</th>\n",
       "      <td>0.104000</td>\n",
       "      <td>0.715015</td>\n",
       "      <td>1.000000</td>\n",
       "      <td>0.137804</td>\n",
       "      <td>-0.110877</td>\n",
       "      <td>-0.018630</td>\n",
       "      <td>0.611437</td>\n",
       "      <td>-0.704158</td>\n",
       "      <td>-0.761367</td>\n",
       "      <td>0.105773</td>\n",
       "      <td>0.350003</td>\n",
       "    </tr>\n",
       "    <tr>\n",
       "      <th>Transmission Type</th>\n",
       "      <td>0.115849</td>\n",
       "      <td>0.229980</td>\n",
       "      <td>0.137804</td>\n",
       "      <td>1.000000</td>\n",
       "      <td>0.163885</td>\n",
       "      <td>0.332564</td>\n",
       "      <td>0.267023</td>\n",
       "      <td>-0.031441</td>\n",
       "      <td>-0.049494</td>\n",
       "      <td>-0.306338</td>\n",
       "      <td>0.354757</td>\n",
       "    </tr>\n",
       "    <tr>\n",
       "      <th>Driven_Wheels</th>\n",
       "      <td>0.011921</td>\n",
       "      <td>-0.042120</td>\n",
       "      <td>-0.110877</td>\n",
       "      <td>0.163885</td>\n",
       "      <td>1.000000</td>\n",
       "      <td>0.292844</td>\n",
       "      <td>0.017002</td>\n",
       "      <td>-0.004052</td>\n",
       "      <td>0.053450</td>\n",
       "      <td>-0.131267</td>\n",
       "      <td>0.114429</td>\n",
       "    </tr>\n",
       "    <tr>\n",
       "      <th>Number of Doors</th>\n",
       "      <td>0.007221</td>\n",
       "      <td>0.032308</td>\n",
       "      <td>-0.018630</td>\n",
       "      <td>0.332564</td>\n",
       "      <td>0.292844</td>\n",
       "      <td>1.000000</td>\n",
       "      <td>0.177700</td>\n",
       "      <td>0.057149</td>\n",
       "      <td>0.076010</td>\n",
       "      <td>-0.271186</td>\n",
       "      <td>0.153067</td>\n",
       "    </tr>\n",
       "    <tr>\n",
       "      <th>Vehicle Size</th>\n",
       "      <td>0.191534</td>\n",
       "      <td>0.549343</td>\n",
       "      <td>0.611437</td>\n",
       "      <td>0.267023</td>\n",
       "      <td>0.017002</td>\n",
       "      <td>0.177700</td>\n",
       "      <td>1.000000</td>\n",
       "      <td>-0.407583</td>\n",
       "      <td>-0.475607</td>\n",
       "      <td>-0.075504</td>\n",
       "      <td>0.346508</td>\n",
       "    </tr>\n",
       "    <tr>\n",
       "      <th>highway MPG</th>\n",
       "      <td>-0.033940</td>\n",
       "      <td>-0.432033</td>\n",
       "      <td>-0.704158</td>\n",
       "      <td>-0.031441</td>\n",
       "      <td>-0.004052</td>\n",
       "      <td>0.057149</td>\n",
       "      <td>-0.407583</td>\n",
       "      <td>1.000000</td>\n",
       "      <td>0.935562</td>\n",
       "      <td>-0.356116</td>\n",
       "      <td>-0.094828</td>\n",
       "    </tr>\n",
       "    <tr>\n",
       "      <th>city mpg</th>\n",
       "      <td>-0.057399</td>\n",
       "      <td>-0.536901</td>\n",
       "      <td>-0.761367</td>\n",
       "      <td>-0.049494</td>\n",
       "      <td>0.053450</td>\n",
       "      <td>0.076010</td>\n",
       "      <td>-0.475607</td>\n",
       "      <td>0.935562</td>\n",
       "      <td>1.000000</td>\n",
       "      <td>-0.316868</td>\n",
       "      <td>-0.171587</td>\n",
       "    </tr>\n",
       "    <tr>\n",
       "      <th>Age</th>\n",
       "      <td>-0.170706</td>\n",
       "      <td>-0.356089</td>\n",
       "      <td>0.105773</td>\n",
       "      <td>-0.306338</td>\n",
       "      <td>-0.131267</td>\n",
       "      <td>-0.271186</td>\n",
       "      <td>-0.075504</td>\n",
       "      <td>-0.356116</td>\n",
       "      <td>-0.316868</td>\n",
       "      <td>1.000000</td>\n",
       "      <td>-0.610561</td>\n",
       "    </tr>\n",
       "    <tr>\n",
       "      <th>MSRP</th>\n",
       "      <td>0.087630</td>\n",
       "      <td>0.732723</td>\n",
       "      <td>0.350003</td>\n",
       "      <td>0.354757</td>\n",
       "      <td>0.114429</td>\n",
       "      <td>0.153067</td>\n",
       "      <td>0.346508</td>\n",
       "      <td>-0.094828</td>\n",
       "      <td>-0.171587</td>\n",
       "      <td>-0.610561</td>\n",
       "      <td>1.000000</td>\n",
       "    </tr>\n",
       "  </tbody>\n",
       "</table>\n",
       "</div>"
      ],
      "text/plain": [
       "                   Engine Fuel Type  Engine HP  Engine Cylinders  \\\n",
       "Engine Fuel Type           1.000000   0.101449          0.104000   \n",
       "Engine HP                  0.101449   1.000000          0.715015   \n",
       "Engine Cylinders           0.104000   0.715015          1.000000   \n",
       "Transmission Type          0.115849   0.229980          0.137804   \n",
       "Driven_Wheels              0.011921  -0.042120         -0.110877   \n",
       "Number of Doors            0.007221   0.032308         -0.018630   \n",
       "Vehicle Size               0.191534   0.549343          0.611437   \n",
       "highway MPG               -0.033940  -0.432033         -0.704158   \n",
       "city mpg                  -0.057399  -0.536901         -0.761367   \n",
       "Age                       -0.170706  -0.356089          0.105773   \n",
       "MSRP                       0.087630   0.732723          0.350003   \n",
       "\n",
       "                   Transmission Type  Driven_Wheels  Number of Doors  \\\n",
       "Engine Fuel Type            0.115849       0.011921         0.007221   \n",
       "Engine HP                   0.229980      -0.042120         0.032308   \n",
       "Engine Cylinders            0.137804      -0.110877        -0.018630   \n",
       "Transmission Type           1.000000       0.163885         0.332564   \n",
       "Driven_Wheels               0.163885       1.000000         0.292844   \n",
       "Number of Doors             0.332564       0.292844         1.000000   \n",
       "Vehicle Size                0.267023       0.017002         0.177700   \n",
       "highway MPG                -0.031441      -0.004052         0.057149   \n",
       "city mpg                   -0.049494       0.053450         0.076010   \n",
       "Age                        -0.306338      -0.131267        -0.271186   \n",
       "MSRP                        0.354757       0.114429         0.153067   \n",
       "\n",
       "                   Vehicle Size  highway MPG  city mpg       Age      MSRP  \n",
       "Engine Fuel Type       0.191534    -0.033940 -0.057399 -0.170706  0.087630  \n",
       "Engine HP              0.549343    -0.432033 -0.536901 -0.356089  0.732723  \n",
       "Engine Cylinders       0.611437    -0.704158 -0.761367  0.105773  0.350003  \n",
       "Transmission Type      0.267023    -0.031441 -0.049494 -0.306338  0.354757  \n",
       "Driven_Wheels          0.017002    -0.004052  0.053450 -0.131267  0.114429  \n",
       "Number of Doors        0.177700     0.057149  0.076010 -0.271186  0.153067  \n",
       "Vehicle Size           1.000000    -0.407583 -0.475607 -0.075504  0.346508  \n",
       "highway MPG           -0.407583     1.000000  0.935562 -0.356116 -0.094828  \n",
       "city mpg              -0.475607     0.935562  1.000000 -0.316868 -0.171587  \n",
       "Age                   -0.075504    -0.356116 -0.316868  1.000000 -0.610561  \n",
       "MSRP                   0.346508    -0.094828 -0.171587 -0.610561  1.000000  "
      ]
     },
     "execution_count": 32,
     "metadata": {},
     "output_type": "execute_result"
    }
   ],
   "source": [
    "corr"
   ]
  },
  {
   "cell_type": "markdown",
   "metadata": {},
   "source": [
    "Here we can see Engine HP is high correlated to MSRP and als Age negatively correlated with MSRP"
   ]
  },
  {
   "cell_type": "code",
   "execution_count": 33,
   "metadata": {},
   "outputs": [
    {
     "data": {
      "text/plain": [
       "<seaborn.axisgrid.PairGrid at 0x12a6a5f0>"
      ]
     },
     "execution_count": 33,
     "metadata": {},
     "output_type": "execute_result"
    },
    {
     "data": {
      "image/png": "[encoded data removed]",
      "text/plain": [
       "<Figure size 360x180 with 2 Axes>"
      ]
     },
     "metadata": {
      "needs_background": "light"
     },
     "output_type": "display_data"
    }
   ],
   "source": [
    "###Plot against MSRP\n",
    "sns.pairplot(data=cp,\n",
    "                  y_vars=['MSRP'],\n",
    "                  x_vars=['Engine Fuel Type', 'Engine HP'])"
   ]
  },
  {
   "cell_type": "code",
   "execution_count": 34,
   "metadata": {},
   "outputs": [
    {
     "data": {
      "text/plain": [
       "<seaborn.axisgrid.PairGrid at 0x13cad130>"
      ]
     },
     "execution_count": 34,
     "metadata": {},
     "output_type": "execute_result"
    },
    {
     "data": {
      "image/png": "[encoded data removed]",
      "text/plain": [
       "<Figure size 360x180 with 2 Axes>"
      ]
     },
     "metadata": {
      "needs_background": "light"
     },
     "output_type": "display_data"
    }
   ],
   "source": [
    "sns.pairplot(data=cp,\n",
    "                  y_vars=['MSRP'],\n",
    "                  x_vars=['Engine Cylinders','Transmission Type'])"
   ]
  },
  {
   "cell_type": "code",
   "execution_count": 35,
   "metadata": {},
   "outputs": [
    {
     "data": {
      "text/plain": [
       "<seaborn.axisgrid.PairGrid at 0x13d0ed90>"
      ]
     },
     "execution_count": 35,
     "metadata": {},
     "output_type": "execute_result"
    },
    {
     "data": {
      "image/png": "[encoded data removed]",
      "text/plain": [
       "<Figure size 360x180 with 2 Axes>"
      ]
     },
     "metadata": {
      "needs_background": "light"
     },
     "output_type": "display_data"
    }
   ],
   "source": [
    "sns.pairplot(data=cp,\n",
    "                  y_vars=['MSRP'],\n",
    "                  x_vars=['Driven_Wheels', 'Number of Doors'])"
   ]
  },
  {
   "cell_type": "code",
   "execution_count": 36,
   "metadata": {},
   "outputs": [
    {
     "data": {
      "text/plain": [
       "<seaborn.axisgrid.PairGrid at 0x13d5d450>"
      ]
     },
     "execution_count": 36,
     "metadata": {},
     "output_type": "execute_result"
    },
    {
     "data": {
      "image/png": "[encoded data removed]",
      "text/plain": [
       "<Figure size 360x180 with 2 Axes>"
      ]
     },
     "metadata": {
      "needs_background": "light"
     },
     "output_type": "display_data"
    }
   ],
   "source": [
    "sns.pairplot(data=cp,\n",
    "                  y_vars=['MSRP'],\n",
    "                  x_vars=['Vehicle Size','highway MPG',])"
   ]
  },
  {
   "cell_type": "code",
   "execution_count": 37,
   "metadata": {},
   "outputs": [
    {
     "data": {
      "text/plain": [
       "<seaborn.axisgrid.PairGrid at 0x13dd3710>"
      ]
     },
     "execution_count": 37,
     "metadata": {},
     "output_type": "execute_result"
    },
    {
     "data": {
      "image/png": "[encoded data removed]",
      "text/plain": [
       "<Figure size 360x180 with 2 Axes>"
      ]
     },
     "metadata": {
      "needs_background": "light"
     },
     "output_type": "display_data"
    }
   ],
   "source": [
    "sns.pairplot(data=cp,\n",
    "                  y_vars=['MSRP'],\n",
    "                  x_vars=['city mpg','Age'])"
   ]
  },
  {
   "cell_type": "code",
   "execution_count": 38,
   "metadata": {},
   "outputs": [
    {
     "data": {
      "text/plain": [
       "<matplotlib.axes._subplots.AxesSubplot at 0x13e21d70>"
      ]
     },
     "execution_count": 38,
     "metadata": {},
     "output_type": "execute_result"
    },
    {
     "data": {
      "image/png": "[encoded data removed]",
      "text/plain": [
       "<Figure size 432x288 with 1 Axes>"
      ]
     },
     "metadata": {
      "needs_background": "light"
     },
     "output_type": "display_data"
    }
   ],
   "source": [
    "###Distributions\n",
    "cp['MSRP'].plot(kind='kde')"
   ]
  },
  {
   "cell_type": "code",
   "execution_count": 39,
   "metadata": {},
   "outputs": [
    {
     "data": {
      "text/plain": [
       "<matplotlib.axes._subplots.AxesSubplot at 0x13e78ed0>"
      ]
     },
     "execution_count": 39,
     "metadata": {},
     "output_type": "execute_result"
    },
    {
     "data": {
      "image/png": "[encoded data removed]",
      "text/plain": [
       "<Figure size 432x288 with 1 Axes>"
      ]
     },
     "metadata": {
      "needs_background": "light"
     },
     "output_type": "display_data"
    }
   ],
   "source": [
    "cp['Engine HP'].plot(kind='kde')"
   ]
  },
  {
   "cell_type": "code",
   "execution_count": 40,
   "metadata": {},
   "outputs": [
    {
     "data": {
      "text/plain": [
       "<matplotlib.axes._subplots.AxesSubplot at 0x1405e670>"
      ]
     },
     "execution_count": 40,
     "metadata": {},
     "output_type": "execute_result"
    },
    {
     "data": {
      "image/png": "[encoded data removed]",
      "text/plain": [
       "<Figure size 432x288 with 1 Axes>"
      ]
     },
     "metadata": {
      "needs_background": "light"
     },
     "output_type": "display_data"
    }
   ],
   "source": [
    "cp['highway MPG'].plot(kind='kde')"
   ]
  },
  {
   "cell_type": "code",
   "execution_count": 41,
   "metadata": {},
   "outputs": [
    {
     "data": {
      "text/plain": [
       "<matplotlib.axes._subplots.AxesSubplot at 0x15076d30>"
      ]
     },
     "execution_count": 41,
     "metadata": {},
     "output_type": "execute_result"
    },
    {
     "data": {
      "image/png": "[encoded data removed]",
      "text/plain": [
       "<Figure size 432x288 with 1 Axes>"
      ]
     },
     "metadata": {
      "needs_background": "light"
     },
     "output_type": "display_data"
    }
   ],
   "source": [
    "cp['city mpg'].plot(kind='kde')"
   ]
  },
  {
   "cell_type": "code",
   "execution_count": 42,
   "metadata": {},
   "outputs": [
    {
     "data": {
      "text/plain": [
       "<matplotlib.axes._subplots.AxesSubplot at 0x12ae5a50>"
      ]
     },
     "execution_count": 42,
     "metadata": {},
     "output_type": "execute_result"
    },
    {
     "data": {
      "image/png": "[encoded data removed]",
      "text/plain": [
       "<Figure size 432x288 with 1 Axes>"
      ]
     },
     "metadata": {
      "needs_background": "light"
     },
     "output_type": "display_data"
    }
   ],
   "source": [
    "cp['Age'].plot(kind='kde')"
   ]
  },
  {
   "cell_type": "code",
   "execution_count": 43,
   "metadata": {},
   "outputs": [
    {
     "name": "stdout",
     "output_type": "stream",
     "text": [
      "[  1930.478 187830.48    2322.363    678.801   1652.321   1067.855\n",
      "   2049.612   7317.287   5947.257  51796.025]\n",
      "[[335.  26.  19.   6.]\n",
      " [300.  28.  19.   6.]\n",
      " [300.  28.  20.   6.]\n",
      " [230.  28.  18.   6.]\n",
      " [230.  28.  18.   6.]]\n"
     ]
    }
   ],
   "source": [
    "# Feature Selection with Univariate Statistical Tests (Chi-squared for regression)\n",
    "from sklearn.feature_selection import SelectKBest\n",
    "from sklearn.feature_selection import chi2\n",
    "array = cp.values\n",
    "X = array[:,0:10]\n",
    "Y = array[:,10]\n",
    "# feature extraction\n",
    "test = SelectKBest(score_func=chi2, k=4)\n",
    "fit = test.fit(X, Y)\n",
    "# summarize scores\n",
    "np.set_printoptions(precision=3)\n",
    "print(fit.scores_)\n",
    "features = fit.transform(X)\n",
    "# summarize selected features\n",
    "print(features[0:5,:])"
   ]
  },
  {
   "cell_type": "markdown",
   "metadata": {},
   "source": [
    "With Feature Selection, we choose the best 4 features which are Engine HP, highway MPG, city mpg and Age as they have relationship with MSRP"
   ]
  },
  {
   "cell_type": "code",
   "execution_count": 44,
   "metadata": {},
   "outputs": [
    {
     "data": {
      "text/html": [
       "<div>\n",
       "<style scoped>\n",
       "    .dataframe tbody tr th:only-of-type {\n",
       "        vertical-align: middle;\n",
       "    }\n",
       "\n",
       "    .dataframe tbody tr th {\n",
       "        vertical-align: top;\n",
       "    }\n",
       "\n",
       "    .dataframe thead th {\n",
       "        text-align: right;\n",
       "    }\n",
       "</style>\n",
       "<table border=\"1\" class=\"dataframe\">\n",
       "  <thead>\n",
       "    <tr style=\"text-align: right;\">\n",
       "      <th></th>\n",
       "      <th>Engine Fuel Type</th>\n",
       "      <th>Engine HP</th>\n",
       "      <th>Engine Cylinders</th>\n",
       "      <th>Transmission Type</th>\n",
       "      <th>Driven_Wheels</th>\n",
       "      <th>Number of Doors</th>\n",
       "      <th>Vehicle Size</th>\n",
       "      <th>highway MPG</th>\n",
       "      <th>city mpg</th>\n",
       "      <th>Age</th>\n",
       "      <th>MSRP</th>\n",
       "    </tr>\n",
       "  </thead>\n",
       "  <tbody>\n",
       "    <tr>\n",
       "      <th>0</th>\n",
       "      <td>1.0</td>\n",
       "      <td>335.0</td>\n",
       "      <td>6.0</td>\n",
       "      <td>1</td>\n",
       "      <td>1</td>\n",
       "      <td>2.0</td>\n",
       "      <td>1</td>\n",
       "      <td>26</td>\n",
       "      <td>19</td>\n",
       "      <td>6</td>\n",
       "      <td>46135</td>\n",
       "    </tr>\n",
       "    <tr>\n",
       "      <th>1</th>\n",
       "      <td>1.0</td>\n",
       "      <td>300.0</td>\n",
       "      <td>6.0</td>\n",
       "      <td>1</td>\n",
       "      <td>1</td>\n",
       "      <td>2.0</td>\n",
       "      <td>1</td>\n",
       "      <td>28</td>\n",
       "      <td>19</td>\n",
       "      <td>6</td>\n",
       "      <td>40650</td>\n",
       "    </tr>\n",
       "    <tr>\n",
       "      <th>2</th>\n",
       "      <td>1.0</td>\n",
       "      <td>300.0</td>\n",
       "      <td>6.0</td>\n",
       "      <td>1</td>\n",
       "      <td>1</td>\n",
       "      <td>2.0</td>\n",
       "      <td>1</td>\n",
       "      <td>28</td>\n",
       "      <td>20</td>\n",
       "      <td>6</td>\n",
       "      <td>36350</td>\n",
       "    </tr>\n",
       "    <tr>\n",
       "      <th>3</th>\n",
       "      <td>1.0</td>\n",
       "      <td>230.0</td>\n",
       "      <td>6.0</td>\n",
       "      <td>1</td>\n",
       "      <td>1</td>\n",
       "      <td>2.0</td>\n",
       "      <td>1</td>\n",
       "      <td>28</td>\n",
       "      <td>18</td>\n",
       "      <td>6</td>\n",
       "      <td>29450</td>\n",
       "    </tr>\n",
       "    <tr>\n",
       "      <th>4</th>\n",
       "      <td>1.0</td>\n",
       "      <td>230.0</td>\n",
       "      <td>6.0</td>\n",
       "      <td>1</td>\n",
       "      <td>1</td>\n",
       "      <td>2.0</td>\n",
       "      <td>1</td>\n",
       "      <td>28</td>\n",
       "      <td>18</td>\n",
       "      <td>6</td>\n",
       "      <td>34500</td>\n",
       "    </tr>\n",
       "  </tbody>\n",
       "</table>\n",
       "</div>"
      ],
      "text/plain": [
       "   Engine Fuel Type  Engine HP  Engine Cylinders  Transmission Type  \\\n",
       "0               1.0      335.0               6.0                  1   \n",
       "1               1.0      300.0               6.0                  1   \n",
       "2               1.0      300.0               6.0                  1   \n",
       "3               1.0      230.0               6.0                  1   \n",
       "4               1.0      230.0               6.0                  1   \n",
       "\n",
       "   Driven_Wheels  Number of Doors  Vehicle Size  highway MPG  city mpg  Age  \\\n",
       "0              1              2.0             1           26        19    6   \n",
       "1              1              2.0             1           28        19    6   \n",
       "2              1              2.0             1           28        20    6   \n",
       "3              1              2.0             1           28        18    6   \n",
       "4              1              2.0             1           28        18    6   \n",
       "\n",
       "    MSRP  \n",
       "0  46135  \n",
       "1  40650  \n",
       "2  36350  \n",
       "3  29450  \n",
       "4  34500  "
      ]
     },
     "execution_count": 44,
     "metadata": {},
     "output_type": "execute_result"
    }
   ],
   "source": [
    "cp.head()"
   ]
  },
  {
   "cell_type": "code",
   "execution_count": null,
   "metadata": {},
   "outputs": [],
   "source": []
  }
 ],
 "metadata": {
  "kernelspec": {
   "display_name": "Python 3",
   "language": "python",
   "name": "python3"
  },
  "language_info": {
   "codemirror_mode": {
    "name": "ipython",
    "version": 3
   },
   "file_extension": ".py",
   "mimetype": "text/x-python",
   "name": "python",
   "nbconvert_exporter": "python",
   "pygments_lexer": "ipython3",
   "version": "3.7.1"
  }
 },
 "nbformat": 4,
 "nbformat_minor": 2
}
