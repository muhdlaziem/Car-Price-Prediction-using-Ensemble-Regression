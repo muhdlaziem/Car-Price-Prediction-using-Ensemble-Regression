{
 "cells": [
  {
   "cell_type": "code",
   "execution_count": 1,
   "metadata": {},
   "outputs": [
    {
     "name": "stdout",
     "output_type": "stream",
     "text": [
      "<class 'pandas.core.frame.DataFrame'>\n",
      "RangeIndex: 11914 entries, 0 to 11913\n",
      "Data columns (total 16 columns):\n",
      "Make                 11914 non-null object\n",
      "Model                11914 non-null object\n",
      "Year                 11914 non-null int64\n",
      "Engine Fuel Type     11911 non-null object\n",
      "Engine HP            11845 non-null float64\n",
      "Engine Cylinders     11884 non-null float64\n",
      "Transmission Type    11914 non-null object\n",
      "Driven_Wheels        11914 non-null object\n",
      "Number of Doors      11908 non-null float64\n",
      "Market Category      8172 non-null object\n",
      "Vehicle Size         11914 non-null object\n",
      "Vehicle Style        11914 non-null object\n",
      "highway MPG          11914 non-null int64\n",
      "city mpg             11914 non-null int64\n",
      "Popularity           11914 non-null int64\n",
      "MSRP                 11914 non-null int64\n",
      "dtypes: float64(3), int64(5), object(8)\n",
      "memory usage: 1.1+ MB\n"
     ]
    }
   ],
   "source": [
    "import pandas as pd\n",
    "import seaborn as sns\n",
    "import matplotlib.pyplot as plt\n",
    "import numpy as np\n",
    "import math\n",
    "from pandas.plotting import scatter_matrix\n",
    "\n",
    "###Data Preprocessing\n",
    "cp = pd.read_csv(\"data.csv\")\n",
    "cp.info()"
   ]
  },
  {
   "cell_type": "code",
   "execution_count": 2,
   "metadata": {},
   "outputs": [
    {
     "data": {
      "text/html": [
       "<div>\n",
       "<style scoped>\n",
       "    .dataframe tbody tr th:only-of-type {\n",
       "        vertical-align: middle;\n",
       "    }\n",
       "\n",
       "    .dataframe tbody tr th {\n",
       "        vertical-align: top;\n",
       "    }\n",
       "\n",
       "    .dataframe thead th {\n",
       "        text-align: right;\n",
       "    }\n",
       "</style>\n",
       "<table border=\"1\" class=\"dataframe\">\n",
       "  <thead>\n",
       "    <tr style=\"text-align: right;\">\n",
       "      <th></th>\n",
       "      <th>Make</th>\n",
       "      <th>Model</th>\n",
       "      <th>Year</th>\n",
       "      <th>Engine Fuel Type</th>\n",
       "      <th>Engine HP</th>\n",
       "      <th>Engine Cylinders</th>\n",
       "      <th>Transmission Type</th>\n",
       "      <th>Driven_Wheels</th>\n",
       "      <th>Number of Doors</th>\n",
       "      <th>Market Category</th>\n",
       "      <th>Vehicle Size</th>\n",
       "      <th>Vehicle Style</th>\n",
       "      <th>highway MPG</th>\n",
       "      <th>city mpg</th>\n",
       "      <th>Popularity</th>\n",
       "      <th>MSRP</th>\n",
       "    </tr>\n",
       "  </thead>\n",
       "  <tbody>\n",
       "    <tr>\n",
       "      <th>0</th>\n",
       "      <td>BMW</td>\n",
       "      <td>1 Series M</td>\n",
       "      <td>2011</td>\n",
       "      <td>premium unleaded (required)</td>\n",
       "      <td>335.0</td>\n",
       "      <td>6.0</td>\n",
       "      <td>MANUAL</td>\n",
       "      <td>rear wheel drive</td>\n",
       "      <td>2.0</td>\n",
       "      <td>Factory Tuner,Luxury,High-Performance</td>\n",
       "      <td>Compact</td>\n",
       "      <td>Coupe</td>\n",
       "      <td>26</td>\n",
       "      <td>19</td>\n",
       "      <td>3916</td>\n",
       "      <td>46135</td>\n",
       "    </tr>\n",
       "    <tr>\n",
       "      <th>1</th>\n",
       "      <td>BMW</td>\n",
       "      <td>1 Series</td>\n",
       "      <td>2011</td>\n",
       "      <td>premium unleaded (required)</td>\n",
       "      <td>300.0</td>\n",
       "      <td>6.0</td>\n",
       "      <td>MANUAL</td>\n",
       "      <td>rear wheel drive</td>\n",
       "      <td>2.0</td>\n",
       "      <td>Luxury,Performance</td>\n",
       "      <td>Compact</td>\n",
       "      <td>Convertible</td>\n",
       "      <td>28</td>\n",
       "      <td>19</td>\n",
       "      <td>3916</td>\n",
       "      <td>40650</td>\n",
       "    </tr>\n",
       "    <tr>\n",
       "      <th>2</th>\n",
       "      <td>BMW</td>\n",
       "      <td>1 Series</td>\n",
       "      <td>2011</td>\n",
       "      <td>premium unleaded (required)</td>\n",
       "      <td>300.0</td>\n",
       "      <td>6.0</td>\n",
       "      <td>MANUAL</td>\n",
       "      <td>rear wheel drive</td>\n",
       "      <td>2.0</td>\n",
       "      <td>Luxury,High-Performance</td>\n",
       "      <td>Compact</td>\n",
       "      <td>Coupe</td>\n",
       "      <td>28</td>\n",
       "      <td>20</td>\n",
       "      <td>3916</td>\n",
       "      <td>36350</td>\n",
       "    </tr>\n",
       "    <tr>\n",
       "      <th>3</th>\n",
       "      <td>BMW</td>\n",
       "      <td>1 Series</td>\n",
       "      <td>2011</td>\n",
       "      <td>premium unleaded (required)</td>\n",
       "      <td>230.0</td>\n",
       "      <td>6.0</td>\n",
       "      <td>MANUAL</td>\n",
       "      <td>rear wheel drive</td>\n",
       "      <td>2.0</td>\n",
       "      <td>Luxury,Performance</td>\n",
       "      <td>Compact</td>\n",
       "      <td>Coupe</td>\n",
       "      <td>28</td>\n",
       "      <td>18</td>\n",
       "      <td>3916</td>\n",
       "      <td>29450</td>\n",
       "    </tr>\n",
       "    <tr>\n",
       "      <th>4</th>\n",
       "      <td>BMW</td>\n",
       "      <td>1 Series</td>\n",
       "      <td>2011</td>\n",
       "      <td>premium unleaded (required)</td>\n",
       "      <td>230.0</td>\n",
       "      <td>6.0</td>\n",
       "      <td>MANUAL</td>\n",
       "      <td>rear wheel drive</td>\n",
       "      <td>2.0</td>\n",
       "      <td>Luxury</td>\n",
       "      <td>Compact</td>\n",
       "      <td>Convertible</td>\n",
       "      <td>28</td>\n",
       "      <td>18</td>\n",
       "      <td>3916</td>\n",
       "      <td>34500</td>\n",
       "    </tr>\n",
       "  </tbody>\n",
       "</table>\n",
       "</div>"
      ],
      "text/plain": [
       "  Make       Model  Year             Engine Fuel Type  Engine HP  \\\n",
       "0  BMW  1 Series M  2011  premium unleaded (required)      335.0   \n",
       "1  BMW    1 Series  2011  premium unleaded (required)      300.0   \n",
       "2  BMW    1 Series  2011  premium unleaded (required)      300.0   \n",
       "3  BMW    1 Series  2011  premium unleaded (required)      230.0   \n",
       "4  BMW    1 Series  2011  premium unleaded (required)      230.0   \n",
       "\n",
       "   Engine Cylinders Transmission Type     Driven_Wheels  Number of Doors  \\\n",
       "0               6.0            MANUAL  rear wheel drive              2.0   \n",
       "1               6.0            MANUAL  rear wheel drive              2.0   \n",
       "2               6.0            MANUAL  rear wheel drive              2.0   \n",
       "3               6.0            MANUAL  rear wheel drive              2.0   \n",
       "4               6.0            MANUAL  rear wheel drive              2.0   \n",
       "\n",
       "                         Market Category Vehicle Size Vehicle Style  \\\n",
       "0  Factory Tuner,Luxury,High-Performance      Compact         Coupe   \n",
       "1                     Luxury,Performance      Compact   Convertible   \n",
       "2                Luxury,High-Performance      Compact         Coupe   \n",
       "3                     Luxury,Performance      Compact         Coupe   \n",
       "4                                 Luxury      Compact   Convertible   \n",
       "\n",
       "   highway MPG  city mpg  Popularity   MSRP  \n",
       "0           26        19        3916  46135  \n",
       "1           28        19        3916  40650  \n",
       "2           28        20        3916  36350  \n",
       "3           28        18        3916  29450  \n",
       "4           28        18        3916  34500  "
      ]
     },
     "execution_count": 2,
     "metadata": {},
     "output_type": "execute_result"
    }
   ],
   "source": [
    "cp.head()"
   ]
  },
  {
   "cell_type": "code",
   "execution_count": 3,
   "metadata": {},
   "outputs": [
    {
     "data": {
      "text/plain": [
       "AUTOMATIC           8266\n",
       "MANUAL              2935\n",
       "AUTOMATED_MANUAL     626\n",
       "DIRECT_DRIVE          68\n",
       "UNKNOWN               19\n",
       "Name: Transmission Type, dtype: int64"
      ]
     },
     "execution_count": 3,
     "metadata": {},
     "output_type": "execute_result"
    }
   ],
   "source": [
    "cp['Transmission Type'].value_counts()"
   ]
  },
  {
   "cell_type": "code",
   "execution_count": 4,
   "metadata": {},
   "outputs": [
    {
     "data": {
      "text/plain": [
       "AUTOMATIC           8266\n",
       "MANUAL              2935\n",
       "AUTOMATED_MANUAL     626\n",
       "DIRECT_DRIVE          68\n",
       "Name: Transmission Type, dtype: int64"
      ]
     },
     "execution_count": 4,
     "metadata": {},
     "output_type": "execute_result"
    }
   ],
   "source": [
    "#Remove the rows that contain 'UNKNOWN'\n",
    "cp = cp[cp['Transmission Type'] != 'UNKNOWN']\n",
    "cp['Transmission Type'].value_counts()"
   ]
  },
  {
   "cell_type": "code",
   "execution_count": 5,
   "metadata": {},
   "outputs": [
    {
     "name": "stdout",
     "output_type": "stream",
     "text": [
      "<class 'pandas.core.frame.DataFrame'>\n",
      "Int64Index: 11895 entries, 0 to 11913\n",
      "Data columns (total 16 columns):\n",
      "Make                 11895 non-null object\n",
      "Model                11895 non-null object\n",
      "Year                 11895 non-null int64\n",
      "Engine Fuel Type     11892 non-null object\n",
      "Engine HP            11826 non-null float64\n",
      "Engine Cylinders     11865 non-null float64\n",
      "Transmission Type    11895 non-null object\n",
      "Driven_Wheels        11895 non-null object\n",
      "Number of Doors      11889 non-null float64\n",
      "Market Category      8169 non-null object\n",
      "Vehicle Size         11895 non-null object\n",
      "Vehicle Style        11895 non-null object\n",
      "highway MPG          11895 non-null int64\n",
      "city mpg             11895 non-null int64\n",
      "Popularity           11895 non-null int64\n",
      "MSRP                 11895 non-null int64\n",
      "dtypes: float64(3), int64(5), object(8)\n",
      "memory usage: 1.2+ MB\n"
     ]
    }
   ],
   "source": [
    "cp.info()"
   ]
  },
  {
   "cell_type": "code",
   "execution_count": 6,
   "metadata": {},
   "outputs": [
    {
     "data": {
      "text/plain": [
       "1    8266\n",
       "2    2935\n",
       "3     626\n",
       "4      68\n",
       "Name: Transmission Type, dtype: int64"
      ]
     },
     "execution_count": 6,
     "metadata": {},
     "output_type": "execute_result"
    }
   ],
   "source": [
    "###Converting Transmission Type to numeric value\n",
    "cp = cp.replace({'AUTOMATIC':'1'})\n",
    "cp = cp.replace({'MANUAL':'2'})\n",
    "cp = cp.replace({'AUTOMATED_MANUAL':'3'})\n",
    "cp = cp.replace({'DIRECT_DRIVE':'4'})\n",
    "cp['Transmission Type'].value_counts()"
   ]
  },
  {
   "cell_type": "code",
   "execution_count": 7,
   "metadata": {},
   "outputs": [
    {
     "name": "stdout",
     "output_type": "stream",
     "text": [
      "<class 'pandas.core.frame.DataFrame'>\n",
      "Int64Index: 11895 entries, 0 to 11913\n",
      "Data columns (total 16 columns):\n",
      "Make                 11895 non-null object\n",
      "Model                11895 non-null object\n",
      "Year                 11895 non-null int64\n",
      "Engine Fuel Type     11892 non-null object\n",
      "Engine HP            11826 non-null float64\n",
      "Engine Cylinders     11865 non-null float64\n",
      "Transmission Type    11895 non-null object\n",
      "Driven_Wheels        11895 non-null object\n",
      "Number of Doors      11889 non-null float64\n",
      "Market Category      8169 non-null object\n",
      "Vehicle Size         11895 non-null object\n",
      "Vehicle Style        11895 non-null object\n",
      "highway MPG          11895 non-null int64\n",
      "city mpg             11895 non-null int64\n",
      "Popularity           11895 non-null int64\n",
      "MSRP                 11895 non-null int64\n",
      "dtypes: float64(3), int64(5), object(8)\n",
      "memory usage: 1.2+ MB\n"
     ]
    }
   ],
   "source": [
    "cp.info()"
   ]
  },
  {
   "cell_type": "code",
   "execution_count": 8,
   "metadata": {},
   "outputs": [
    {
     "name": "stdout",
     "output_type": "stream",
     "text": [
      "<class 'pandas.core.frame.DataFrame'>\n",
      "Int64Index: 11895 entries, 0 to 11913\n",
      "Data columns (total 16 columns):\n",
      "Make                 11895 non-null object\n",
      "Model                11895 non-null object\n",
      "Year                 11895 non-null int64\n",
      "Engine Fuel Type     11892 non-null object\n",
      "Engine HP            11826 non-null float64\n",
      "Engine Cylinders     11865 non-null float64\n",
      "Transmission Type    11895 non-null int64\n",
      "Driven_Wheels        11895 non-null object\n",
      "Number of Doors      11889 non-null float64\n",
      "Market Category      8169 non-null object\n",
      "Vehicle Size         11895 non-null object\n",
      "Vehicle Style        11895 non-null object\n",
      "highway MPG          11895 non-null int64\n",
      "city mpg             11895 non-null int64\n",
      "Popularity           11895 non-null int64\n",
      "MSRP                 11895 non-null int64\n",
      "dtypes: float64(3), int64(6), object(7)\n",
      "memory usage: 1.2+ MB\n"
     ]
    }
   ],
   "source": [
    "###Converting Transmission Type datatype to numeric \n",
    "cp[\"Transmission Type\"] = pd.to_numeric(cp[\"Transmission Type\"])\n",
    "cp.info()"
   ]
  },
  {
   "cell_type": "code",
   "execution_count": 9,
   "metadata": {},
   "outputs": [
    {
     "data": {
      "text/html": [
       "<div>\n",
       "<style scoped>\n",
       "    .dataframe tbody tr th:only-of-type {\n",
       "        vertical-align: middle;\n",
       "    }\n",
       "\n",
       "    .dataframe tbody tr th {\n",
       "        vertical-align: top;\n",
       "    }\n",
       "\n",
       "    .dataframe thead th {\n",
       "        text-align: right;\n",
       "    }\n",
       "</style>\n",
       "<table border=\"1\" class=\"dataframe\">\n",
       "  <thead>\n",
       "    <tr style=\"text-align: right;\">\n",
       "      <th></th>\n",
       "      <th>Make</th>\n",
       "      <th>Model</th>\n",
       "      <th>Year</th>\n",
       "      <th>Engine Fuel Type</th>\n",
       "      <th>Engine HP</th>\n",
       "      <th>Engine Cylinders</th>\n",
       "      <th>Transmission Type</th>\n",
       "      <th>Driven_Wheels</th>\n",
       "      <th>Number of Doors</th>\n",
       "      <th>Vehicle Size</th>\n",
       "      <th>Vehicle Style</th>\n",
       "      <th>highway MPG</th>\n",
       "      <th>city mpg</th>\n",
       "      <th>MSRP</th>\n",
       "      <th>Age</th>\n",
       "    </tr>\n",
       "  </thead>\n",
       "  <tbody>\n",
       "    <tr>\n",
       "      <th>0</th>\n",
       "      <td>BMW</td>\n",
       "      <td>1 Series M</td>\n",
       "      <td>2011</td>\n",
       "      <td>premium unleaded (required)</td>\n",
       "      <td>335.0</td>\n",
       "      <td>6.0</td>\n",
       "      <td>2</td>\n",
       "      <td>rear wheel drive</td>\n",
       "      <td>2.0</td>\n",
       "      <td>Compact</td>\n",
       "      <td>Coupe</td>\n",
       "      <td>26</td>\n",
       "      <td>19</td>\n",
       "      <td>46135</td>\n",
       "      <td>6</td>\n",
       "    </tr>\n",
       "    <tr>\n",
       "      <th>1</th>\n",
       "      <td>BMW</td>\n",
       "      <td>1 Series</td>\n",
       "      <td>2011</td>\n",
       "      <td>premium unleaded (required)</td>\n",
       "      <td>300.0</td>\n",
       "      <td>6.0</td>\n",
       "      <td>2</td>\n",
       "      <td>rear wheel drive</td>\n",
       "      <td>2.0</td>\n",
       "      <td>Compact</td>\n",
       "      <td>Convertible</td>\n",
       "      <td>28</td>\n",
       "      <td>19</td>\n",
       "      <td>40650</td>\n",
       "      <td>6</td>\n",
       "    </tr>\n",
       "    <tr>\n",
       "      <th>2</th>\n",
       "      <td>BMW</td>\n",
       "      <td>1 Series</td>\n",
       "      <td>2011</td>\n",
       "      <td>premium unleaded (required)</td>\n",
       "      <td>300.0</td>\n",
       "      <td>6.0</td>\n",
       "      <td>2</td>\n",
       "      <td>rear wheel drive</td>\n",
       "      <td>2.0</td>\n",
       "      <td>Compact</td>\n",
       "      <td>Coupe</td>\n",
       "      <td>28</td>\n",
       "      <td>20</td>\n",
       "      <td>36350</td>\n",
       "      <td>6</td>\n",
       "    </tr>\n",
       "    <tr>\n",
       "      <th>3</th>\n",
       "      <td>BMW</td>\n",
       "      <td>1 Series</td>\n",
       "      <td>2011</td>\n",
       "      <td>premium unleaded (required)</td>\n",
       "      <td>230.0</td>\n",
       "      <td>6.0</td>\n",
       "      <td>2</td>\n",
       "      <td>rear wheel drive</td>\n",
       "      <td>2.0</td>\n",
       "      <td>Compact</td>\n",
       "      <td>Coupe</td>\n",
       "      <td>28</td>\n",
       "      <td>18</td>\n",
       "      <td>29450</td>\n",
       "      <td>6</td>\n",
       "    </tr>\n",
       "    <tr>\n",
       "      <th>4</th>\n",
       "      <td>BMW</td>\n",
       "      <td>1 Series</td>\n",
       "      <td>2011</td>\n",
       "      <td>premium unleaded (required)</td>\n",
       "      <td>230.0</td>\n",
       "      <td>6.0</td>\n",
       "      <td>2</td>\n",
       "      <td>rear wheel drive</td>\n",
       "      <td>2.0</td>\n",
       "      <td>Compact</td>\n",
       "      <td>Convertible</td>\n",
       "      <td>28</td>\n",
       "      <td>18</td>\n",
       "      <td>34500</td>\n",
       "      <td>6</td>\n",
       "    </tr>\n",
       "  </tbody>\n",
       "</table>\n",
       "</div>"
      ],
      "text/plain": [
       "  Make       Model  Year             Engine Fuel Type  Engine HP  \\\n",
       "0  BMW  1 Series M  2011  premium unleaded (required)      335.0   \n",
       "1  BMW    1 Series  2011  premium unleaded (required)      300.0   \n",
       "2  BMW    1 Series  2011  premium unleaded (required)      300.0   \n",
       "3  BMW    1 Series  2011  premium unleaded (required)      230.0   \n",
       "4  BMW    1 Series  2011  premium unleaded (required)      230.0   \n",
       "\n",
       "   Engine Cylinders  Transmission Type     Driven_Wheels  Number of Doors  \\\n",
       "0               6.0                  2  rear wheel drive              2.0   \n",
       "1               6.0                  2  rear wheel drive              2.0   \n",
       "2               6.0                  2  rear wheel drive              2.0   \n",
       "3               6.0                  2  rear wheel drive              2.0   \n",
       "4               6.0                  2  rear wheel drive              2.0   \n",
       "\n",
       "  Vehicle Size Vehicle Style  highway MPG  city mpg   MSRP  Age  \n",
       "0      Compact         Coupe           26        19  46135    6  \n",
       "1      Compact   Convertible           28        19  40650    6  \n",
       "2      Compact         Coupe           28        20  36350    6  \n",
       "3      Compact         Coupe           28        18  29450    6  \n",
       "4      Compact   Convertible           28        18  34500    6  "
      ]
     },
     "execution_count": 9,
     "metadata": {},
     "output_type": "execute_result"
    }
   ],
   "source": [
    "###Drop column Popularity and Market Category as Both of them does not really affect MSRP\n",
    "cp = cp.drop('Popularity',axis=1)\n",
    "cp = cp.drop('Market Category',axis=1)\n",
    "\n",
    "###Calculate The age of the car from 2017 since the dataset published in 2017\n",
    "cp['Age']=2017-cp['Year']\n",
    "cp.head()"
   ]
  },
  {
   "cell_type": "code",
   "execution_count": 10,
   "metadata": {},
   "outputs": [
    {
     "data": {
      "text/plain": [
       "False"
      ]
     },
     "execution_count": 10,
     "metadata": {},
     "output_type": "execute_result"
    }
   ],
   "source": [
    "##Check null values for Age\n",
    "cp['Age'].isnull().any()"
   ]
  },
  {
   "cell_type": "code",
   "execution_count": 11,
   "metadata": {},
   "outputs": [],
   "source": [
    "## Removing Duplicates\n",
    "cp.drop_duplicates(keep=False,inplace=True) "
   ]
  },
  {
   "cell_type": "code",
   "execution_count": 12,
   "metadata": {},
   "outputs": [
    {
     "name": "stdout",
     "output_type": "stream",
     "text": [
      "<class 'pandas.core.frame.DataFrame'>\n",
      "Int64Index: 10562 entries, 0 to 11913\n",
      "Data columns (total 15 columns):\n",
      "Make                 10562 non-null object\n",
      "Model                10562 non-null object\n",
      "Year                 10562 non-null int64\n",
      "Engine Fuel Type     10559 non-null object\n",
      "Engine HP            10493 non-null float64\n",
      "Engine Cylinders     10532 non-null float64\n",
      "Transmission Type    10562 non-null int64\n",
      "Driven_Wheels        10562 non-null object\n",
      "Number of Doors      10556 non-null float64\n",
      "Vehicle Size         10562 non-null object\n",
      "Vehicle Style        10562 non-null object\n",
      "highway MPG          10562 non-null int64\n",
      "city mpg             10562 non-null int64\n",
      "MSRP                 10562 non-null int64\n",
      "Age                  10562 non-null int64\n",
      "dtypes: float64(3), int64(6), object(6)\n",
      "memory usage: 1.0+ MB\n"
     ]
    }
   ],
   "source": [
    "cp.info()"
   ]
  },
  {
   "cell_type": "code",
   "execution_count": 13,
   "metadata": {},
   "outputs": [
    {
     "data": {
      "text/plain": [
       "count         10562\n",
       "unique           48\n",
       "top       Chevrolet\n",
       "freq           1051\n",
       "Name: Make, dtype: object"
      ]
     },
     "execution_count": 13,
     "metadata": {},
     "output_type": "execute_result"
    }
   ],
   "source": [
    "###Checking Unique values\n",
    "cp['Make'].describe()"
   ]
  },
  {
   "cell_type": "code",
   "execution_count": 14,
   "metadata": {},
   "outputs": [
    {
     "data": {
      "text/plain": [
       "count              10562\n",
       "unique               897\n",
       "top       Silverado 1500\n",
       "freq                 156\n",
       "Name: Model, dtype: object"
      ]
     },
     "execution_count": 14,
     "metadata": {},
     "output_type": "execute_result"
    }
   ],
   "source": [
    "cp['Model'].describe()"
   ]
  },
  {
   "cell_type": "code",
   "execution_count": 15,
   "metadata": {},
   "outputs": [
    {
     "data": {
      "text/plain": [
       "count                10559\n",
       "unique                  10\n",
       "top       regular unleaded\n",
       "freq                  6214\n",
       "Name: Engine Fuel Type, dtype: object"
      ]
     },
     "execution_count": 15,
     "metadata": {},
     "output_type": "execute_result"
    }
   ],
   "source": [
    "cp['Engine Fuel Type'].describe()"
   ]
  },
  {
   "cell_type": "code",
   "execution_count": 16,
   "metadata": {},
   "outputs": [
    {
     "data": {
      "text/plain": [
       "array(['rear wheel drive', 'all wheel drive', 'front wheel drive',\n",
       "       'four wheel drive'], dtype=object)"
      ]
     },
     "execution_count": 16,
     "metadata": {},
     "output_type": "execute_result"
    }
   ],
   "source": [
    "cp['Driven_Wheels'].unique()"
   ]
  },
  {
   "cell_type": "code",
   "execution_count": 17,
   "metadata": {},
   "outputs": [
    {
     "data": {
      "text/plain": [
       "3    3935\n",
       "1    3092\n",
       "2    2265\n",
       "4    1270\n",
       "Name: Driven_Wheels, dtype: int64"
      ]
     },
     "execution_count": 17,
     "metadata": {},
     "output_type": "execute_result"
    }
   ],
   "source": [
    "###Converting Driven_Wheels to numeric value\n",
    "cp = cp.replace({'rear wheel drive':'1'})\n",
    "cp = cp.replace({'all wheel drive':'2'})\n",
    "cp = cp.replace({'front wheel drive':'3'})\n",
    "cp = cp.replace({'four wheel drive':'4'})\n",
    "cp[\"Driven_Wheels\"] = pd.to_numeric(cp[\"Driven_Wheels\"])\n",
    "cp['Driven_Wheels'].value_counts()"
   ]
  },
  {
   "cell_type": "code",
   "execution_count": 18,
   "metadata": {},
   "outputs": [
    {
     "data": {
      "text/plain": [
       "array(['premium unleaded (required)', 'regular unleaded',\n",
       "       'premium unleaded (recommended)', 'flex-fuel (unleaded/E85)',\n",
       "       'diesel', 'electric',\n",
       "       'flex-fuel (premium unleaded recommended/E85)', 'natural gas',\n",
       "       'flex-fuel (premium unleaded required/E85)',\n",
       "       'flex-fuel (unleaded/natural gas)', nan], dtype=object)"
      ]
     },
     "execution_count": 18,
     "metadata": {},
     "output_type": "execute_result"
    }
   ],
   "source": [
    "cp['Engine Fuel Type'].unique()"
   ]
  },
  {
   "cell_type": "code",
   "execution_count": 19,
   "metadata": {},
   "outputs": [
    {
     "data": {
      "text/plain": [
       "2.0     6214\n",
       "1.0     1905\n",
       "3.0     1267\n",
       "4.0      875\n",
       "5.0      146\n",
       "6.0       66\n",
       "9.0       52\n",
       "7.0       26\n",
       "10.0       6\n",
       "8.0        2\n",
       "Name: Engine Fuel Type, dtype: int64"
      ]
     },
     "execution_count": 19,
     "metadata": {},
     "output_type": "execute_result"
    }
   ],
   "source": [
    "###Converting Engine Fuel Type to numeric\n",
    "cp = cp.replace({'premium unleaded (required)':'1'})\n",
    "cp = cp.replace({'regular unleaded':'2'})\n",
    "cp = cp.replace({'premium unleaded (recommended)':'3'})\n",
    "cp = cp.replace({'flex-fuel (unleaded/E85)':'4'})\n",
    "cp = cp.replace({'diesel':'5'})\n",
    "cp = cp.replace({'electric':'6'})\n",
    "cp = cp.replace({'flex-fuel (premium unleaded recommended/E85)':'7'})\n",
    "cp = cp.replace({'natural gas':'8'})\n",
    "cp = cp.replace({'flex-fuel (premium unleaded required/E85)':'9'})\n",
    "cp = cp.replace({'flex-fuel (unleaded/natural gas)':'10'})\n",
    "cp[\"Engine Fuel Type\"] = pd.to_numeric(cp[\"Engine Fuel Type\"])\n",
    "cp['Engine Fuel Type'].value_counts()"
   ]
  },
  {
   "cell_type": "code",
   "execution_count": 20,
   "metadata": {},
   "outputs": [
    {
     "data": {
      "text/plain": [
       "True"
      ]
     },
     "execution_count": 20,
     "metadata": {},
     "output_type": "execute_result"
    }
   ],
   "source": [
    "##check null values\n",
    "cp['Engine Fuel Type'].isnull().any()"
   ]
  },
  {
   "cell_type": "code",
   "execution_count": 21,
   "metadata": {},
   "outputs": [
    {
     "data": {
      "text/plain": [
       "False"
      ]
     },
     "execution_count": 21,
     "metadata": {},
     "output_type": "execute_result"
    }
   ],
   "source": [
    "##Drop null values\n",
    "cp=cp.dropna()\n",
    "cp['Engine Fuel Type'].isnull().any()"
   ]
  },
  {
   "cell_type": "code",
   "execution_count": 22,
   "metadata": {},
   "outputs": [
    {
     "data": {
      "text/plain": [
       "array(['Compact', 'Midsize', 'Large'], dtype=object)"
      ]
     },
     "execution_count": 22,
     "metadata": {},
     "output_type": "execute_result"
    }
   ],
   "source": [
    "cp['Vehicle Size'].unique()"
   ]
  },
  {
   "cell_type": "code",
   "execution_count": 23,
   "metadata": {},
   "outputs": [
    {
     "data": {
      "text/plain": [
       "1    3998\n",
       "2    3869\n",
       "3    2593\n",
       "Name: Vehicle Size, dtype: int64"
      ]
     },
     "execution_count": 23,
     "metadata": {},
     "output_type": "execute_result"
    }
   ],
   "source": [
    "###Converting Vehicle Size to numeric\n",
    "cp = cp.replace({'Compact':'1'})\n",
    "cp = cp.replace({'Midsize':'2'})\n",
    "cp = cp.replace({'Large':'3'})\n",
    "cp[\"Vehicle Size\"] = pd.to_numeric(cp[\"Vehicle Size\"])\n",
    "cp['Vehicle Size'].value_counts()"
   ]
  },
  {
   "cell_type": "code",
   "execution_count": 24,
   "metadata": {},
   "outputs": [
    {
     "data": {
      "text/plain": [
       "array(['Coupe', 'Convertible', 'Wagon', 'Sedan', '4dr Hatchback',\n",
       "       '2dr Hatchback', '4dr SUV', 'Passenger Minivan', 'Cargo Minivan',\n",
       "       'Crew Cab Pickup', 'Regular Cab Pickup', 'Extended Cab Pickup',\n",
       "       '2dr SUV', 'Cargo Van', 'Convertible SUV', 'Passenger Van'],\n",
       "      dtype=object)"
      ]
     },
     "execution_count": 24,
     "metadata": {},
     "output_type": "execute_result"
    }
   ],
   "source": [
    "cp['Vehicle Style'].unique()"
   ]
  },
  {
   "cell_type": "code",
   "execution_count": 25,
   "metadata": {},
   "outputs": [
    {
     "data": {
      "text/html": [
       "<div>\n",
       "<style scoped>\n",
       "    .dataframe tbody tr th:only-of-type {\n",
       "        vertical-align: middle;\n",
       "    }\n",
       "\n",
       "    .dataframe tbody tr th {\n",
       "        vertical-align: top;\n",
       "    }\n",
       "\n",
       "    .dataframe thead th {\n",
       "        text-align: right;\n",
       "    }\n",
       "</style>\n",
       "<table border=\"1\" class=\"dataframe\">\n",
       "  <thead>\n",
       "    <tr style=\"text-align: right;\">\n",
       "      <th></th>\n",
       "      <th>Make</th>\n",
       "      <th>Model</th>\n",
       "      <th>Year</th>\n",
       "      <th>Engine Fuel Type</th>\n",
       "      <th>Engine HP</th>\n",
       "      <th>Engine Cylinders</th>\n",
       "      <th>Transmission Type</th>\n",
       "      <th>Driven_Wheels</th>\n",
       "      <th>Number of Doors</th>\n",
       "      <th>Vehicle Size</th>\n",
       "      <th>Vehicle Style</th>\n",
       "      <th>highway MPG</th>\n",
       "      <th>city mpg</th>\n",
       "      <th>MSRP</th>\n",
       "      <th>Age</th>\n",
       "    </tr>\n",
       "  </thead>\n",
       "  <tbody>\n",
       "    <tr>\n",
       "      <th>0</th>\n",
       "      <td>BMW</td>\n",
       "      <td>1 Series M</td>\n",
       "      <td>2011</td>\n",
       "      <td>1.0</td>\n",
       "      <td>335.0</td>\n",
       "      <td>6.0</td>\n",
       "      <td>2</td>\n",
       "      <td>1</td>\n",
       "      <td>2.0</td>\n",
       "      <td>1</td>\n",
       "      <td>Coupe</td>\n",
       "      <td>26</td>\n",
       "      <td>19</td>\n",
       "      <td>46135</td>\n",
       "      <td>6</td>\n",
       "    </tr>\n",
       "    <tr>\n",
       "      <th>1</th>\n",
       "      <td>BMW</td>\n",
       "      <td>1 Series</td>\n",
       "      <td>2011</td>\n",
       "      <td>1.0</td>\n",
       "      <td>300.0</td>\n",
       "      <td>6.0</td>\n",
       "      <td>2</td>\n",
       "      <td>1</td>\n",
       "      <td>2.0</td>\n",
       "      <td>1</td>\n",
       "      <td>Convertible</td>\n",
       "      <td>28</td>\n",
       "      <td>19</td>\n",
       "      <td>40650</td>\n",
       "      <td>6</td>\n",
       "    </tr>\n",
       "    <tr>\n",
       "      <th>2</th>\n",
       "      <td>BMW</td>\n",
       "      <td>1 Series</td>\n",
       "      <td>2011</td>\n",
       "      <td>1.0</td>\n",
       "      <td>300.0</td>\n",
       "      <td>6.0</td>\n",
       "      <td>2</td>\n",
       "      <td>1</td>\n",
       "      <td>2.0</td>\n",
       "      <td>1</td>\n",
       "      <td>Coupe</td>\n",
       "      <td>28</td>\n",
       "      <td>20</td>\n",
       "      <td>36350</td>\n",
       "      <td>6</td>\n",
       "    </tr>\n",
       "    <tr>\n",
       "      <th>3</th>\n",
       "      <td>BMW</td>\n",
       "      <td>1 Series</td>\n",
       "      <td>2011</td>\n",
       "      <td>1.0</td>\n",
       "      <td>230.0</td>\n",
       "      <td>6.0</td>\n",
       "      <td>2</td>\n",
       "      <td>1</td>\n",
       "      <td>2.0</td>\n",
       "      <td>1</td>\n",
       "      <td>Coupe</td>\n",
       "      <td>28</td>\n",
       "      <td>18</td>\n",
       "      <td>29450</td>\n",
       "      <td>6</td>\n",
       "    </tr>\n",
       "    <tr>\n",
       "      <th>4</th>\n",
       "      <td>BMW</td>\n",
       "      <td>1 Series</td>\n",
       "      <td>2011</td>\n",
       "      <td>1.0</td>\n",
       "      <td>230.0</td>\n",
       "      <td>6.0</td>\n",
       "      <td>2</td>\n",
       "      <td>1</td>\n",
       "      <td>2.0</td>\n",
       "      <td>1</td>\n",
       "      <td>Convertible</td>\n",
       "      <td>28</td>\n",
       "      <td>18</td>\n",
       "      <td>34500</td>\n",
       "      <td>6</td>\n",
       "    </tr>\n",
       "  </tbody>\n",
       "</table>\n",
       "</div>"
      ],
      "text/plain": [
       "  Make       Model  Year  Engine Fuel Type  Engine HP  Engine Cylinders  \\\n",
       "0  BMW  1 Series M  2011               1.0      335.0               6.0   \n",
       "1  BMW    1 Series  2011               1.0      300.0               6.0   \n",
       "2  BMW    1 Series  2011               1.0      300.0               6.0   \n",
       "3  BMW    1 Series  2011               1.0      230.0               6.0   \n",
       "4  BMW    1 Series  2011               1.0      230.0               6.0   \n",
       "\n",
       "   Transmission Type  Driven_Wheels  Number of Doors  Vehicle Size  \\\n",
       "0                  2              1              2.0             1   \n",
       "1                  2              1              2.0             1   \n",
       "2                  2              1              2.0             1   \n",
       "3                  2              1              2.0             1   \n",
       "4                  2              1              2.0             1   \n",
       "\n",
       "  Vehicle Style  highway MPG  city mpg   MSRP  Age  \n",
       "0         Coupe           26        19  46135    6  \n",
       "1   Convertible           28        19  40650    6  \n",
       "2         Coupe           28        20  36350    6  \n",
       "3         Coupe           28        18  29450    6  \n",
       "4   Convertible           28        18  34500    6  "
      ]
     },
     "execution_count": 25,
     "metadata": {},
     "output_type": "execute_result"
    }
   ],
   "source": [
    "cp.head()"
   ]
  },
  {
   "cell_type": "code",
   "execution_count": 26,
   "metadata": {},
   "outputs": [
    {
     "data": {
      "text/html": [
       "<div>\n",
       "<style scoped>\n",
       "    .dataframe tbody tr th:only-of-type {\n",
       "        vertical-align: middle;\n",
       "    }\n",
       "\n",
       "    .dataframe tbody tr th {\n",
       "        vertical-align: top;\n",
       "    }\n",
       "\n",
       "    .dataframe thead th {\n",
       "        text-align: right;\n",
       "    }\n",
       "</style>\n",
       "<table border=\"1\" class=\"dataframe\">\n",
       "  <thead>\n",
       "    <tr style=\"text-align: right;\">\n",
       "      <th></th>\n",
       "      <th>Engine Fuel Type</th>\n",
       "      <th>Engine HP</th>\n",
       "      <th>Engine Cylinders</th>\n",
       "      <th>Transmission Type</th>\n",
       "      <th>Driven_Wheels</th>\n",
       "      <th>Number of Doors</th>\n",
       "      <th>Vehicle Size</th>\n",
       "      <th>highway MPG</th>\n",
       "      <th>city mpg</th>\n",
       "      <th>MSRP</th>\n",
       "      <th>Age</th>\n",
       "    </tr>\n",
       "  </thead>\n",
       "  <tbody>\n",
       "    <tr>\n",
       "      <th>0</th>\n",
       "      <td>1.0</td>\n",
       "      <td>335.0</td>\n",
       "      <td>6.0</td>\n",
       "      <td>2</td>\n",
       "      <td>1</td>\n",
       "      <td>2.0</td>\n",
       "      <td>1</td>\n",
       "      <td>26</td>\n",
       "      <td>19</td>\n",
       "      <td>46135</td>\n",
       "      <td>6</td>\n",
       "    </tr>\n",
       "    <tr>\n",
       "      <th>1</th>\n",
       "      <td>1.0</td>\n",
       "      <td>300.0</td>\n",
       "      <td>6.0</td>\n",
       "      <td>2</td>\n",
       "      <td>1</td>\n",
       "      <td>2.0</td>\n",
       "      <td>1</td>\n",
       "      <td>28</td>\n",
       "      <td>19</td>\n",
       "      <td>40650</td>\n",
       "      <td>6</td>\n",
       "    </tr>\n",
       "    <tr>\n",
       "      <th>2</th>\n",
       "      <td>1.0</td>\n",
       "      <td>300.0</td>\n",
       "      <td>6.0</td>\n",
       "      <td>2</td>\n",
       "      <td>1</td>\n",
       "      <td>2.0</td>\n",
       "      <td>1</td>\n",
       "      <td>28</td>\n",
       "      <td>20</td>\n",
       "      <td>36350</td>\n",
       "      <td>6</td>\n",
       "    </tr>\n",
       "    <tr>\n",
       "      <th>3</th>\n",
       "      <td>1.0</td>\n",
       "      <td>230.0</td>\n",
       "      <td>6.0</td>\n",
       "      <td>2</td>\n",
       "      <td>1</td>\n",
       "      <td>2.0</td>\n",
       "      <td>1</td>\n",
       "      <td>28</td>\n",
       "      <td>18</td>\n",
       "      <td>29450</td>\n",
       "      <td>6</td>\n",
       "    </tr>\n",
       "    <tr>\n",
       "      <th>4</th>\n",
       "      <td>1.0</td>\n",
       "      <td>230.0</td>\n",
       "      <td>6.0</td>\n",
       "      <td>2</td>\n",
       "      <td>1</td>\n",
       "      <td>2.0</td>\n",
       "      <td>1</td>\n",
       "      <td>28</td>\n",
       "      <td>18</td>\n",
       "      <td>34500</td>\n",
       "      <td>6</td>\n",
       "    </tr>\n",
       "  </tbody>\n",
       "</table>\n",
       "</div>"
      ],
      "text/plain": [
       "   Engine Fuel Type  Engine HP  Engine Cylinders  Transmission Type  \\\n",
       "0               1.0      335.0               6.0                  2   \n",
       "1               1.0      300.0               6.0                  2   \n",
       "2               1.0      300.0               6.0                  2   \n",
       "3               1.0      230.0               6.0                  2   \n",
       "4               1.0      230.0               6.0                  2   \n",
       "\n",
       "   Driven_Wheels  Number of Doors  Vehicle Size  highway MPG  city mpg   MSRP  \\\n",
       "0              1              2.0             1           26        19  46135   \n",
       "1              1              2.0             1           28        19  40650   \n",
       "2              1              2.0             1           28        20  36350   \n",
       "3              1              2.0             1           28        18  29450   \n",
       "4              1              2.0             1           28        18  34500   \n",
       "\n",
       "   Age  \n",
       "0    6  \n",
       "1    6  \n",
       "2    6  \n",
       "3    6  \n",
       "4    6  "
      ]
     },
     "execution_count": 26,
     "metadata": {},
     "output_type": "execute_result"
    }
   ],
   "source": [
    "###Drop Unnecessary columns\n",
    "cp = cp.drop('Make',axis=1)\n",
    "cp = cp.drop('Model',axis=1)\n",
    "cp = cp.drop('Year',axis=1)\n",
    "cp = cp.drop('Vehicle Style',axis=1)\n",
    "cp.head()"
   ]
  },
  {
   "cell_type": "code",
   "execution_count": 27,
   "metadata": {},
   "outputs": [
    {
     "name": "stdout",
     "output_type": "stream",
     "text": [
      "<class 'pandas.core.frame.DataFrame'>\n",
      "Int64Index: 10460 entries, 0 to 11913\n",
      "Data columns (total 11 columns):\n",
      "Engine Fuel Type     10460 non-null float64\n",
      "Engine HP            10460 non-null float64\n",
      "Engine Cylinders     10460 non-null float64\n",
      "Transmission Type    10460 non-null int64\n",
      "Driven_Wheels        10460 non-null int64\n",
      "Number of Doors      10460 non-null float64\n",
      "Vehicle Size         10460 non-null int64\n",
      "highway MPG          10460 non-null int64\n",
      "city mpg             10460 non-null int64\n",
      "MSRP                 10460 non-null int64\n",
      "Age                  10460 non-null int64\n",
      "dtypes: float64(4), int64(7)\n",
      "memory usage: 980.6 KB\n"
     ]
    }
   ],
   "source": [
    "cp.info()"
   ]
  },
  {
   "cell_type": "code",
   "execution_count": 28,
   "metadata": {},
   "outputs": [
    {
     "name": "stdout",
     "output_type": "stream",
     "text": [
      "21810.0\n"
     ]
    }
   ],
   "source": [
    "###Check outliers for MSRP\n",
    "Q1 = cp['MSRP'].quantile(0.25)\n",
    "Q3 = cp['MSRP'].quantile(0.75)\n",
    "IQR = Q3 - Q1\n",
    "Cleancp=cp\n",
    "print(IQR)\n"
   ]
  },
  {
   "cell_type": "code",
   "execution_count": 29,
   "metadata": {},
   "outputs": [],
   "source": [
    "###Remove outliers\n",
    "Cleancp = Cleancp[~((Cleancp['MSRP'] <= (Q1 - (1.5 * IQR))) | (Cleancp['MSRP'] >= (Q3 + (1.5 * IQR))))]"
   ]
  },
  {
   "cell_type": "code",
   "execution_count": 30,
   "metadata": {},
   "outputs": [
    {
     "name": "stdout",
     "output_type": "stream",
     "text": [
      "<class 'pandas.core.frame.DataFrame'>\n",
      "Int64Index: 9545 entries, 0 to 11913\n",
      "Data columns (total 11 columns):\n",
      "Engine Fuel Type     9545 non-null float64\n",
      "Engine HP            9545 non-null float64\n",
      "Engine Cylinders     9545 non-null float64\n",
      "Transmission Type    9545 non-null int64\n",
      "Driven_Wheels        9545 non-null int64\n",
      "Number of Doors      9545 non-null float64\n",
      "Vehicle Size         9545 non-null int64\n",
      "highway MPG          9545 non-null int64\n",
      "city mpg             9545 non-null int64\n",
      "Age                  9545 non-null int64\n",
      "MSRP                 9545 non-null int64\n",
      "dtypes: float64(4), int64(7)\n",
      "memory usage: 894.8 KB\n"
     ]
    }
   ],
   "source": [
    "Cleancp = Cleancp[['Engine Fuel Type','Engine HP','Engine Cylinders','Transmission Type','Driven_Wheels',\n",
    "                  'Number of Doors','Vehicle Size','highway MPG','city mpg','Age','MSRP']]\n",
    "Cleancp.info()"
   ]
  },
  {
   "cell_type": "code",
   "execution_count": 31,
   "metadata": {},
   "outputs": [],
   "source": [
    "Cleancp.to_csv('Cleancp.csv',index=False)\n",
    "cp.to_csv('cp.csv',index=False)"
   ]
  },
  {
   "cell_type": "code",
   "execution_count": 32,
   "metadata": {
    "scrolled": true
   },
   "outputs": [
    {
     "data": {
      "text/plain": [
       "<matplotlib.axes._subplots.AxesSubplot at 0x115f4630>"
      ]
     },
     "execution_count": 32,
     "metadata": {},
     "output_type": "execute_result"
    },
    {
     "data": {
      "image/png": "[encoded data removed]",
      "text/plain": [
       "<Figure size 432x288 with 1 Axes>"
      ]
     },
     "metadata": {
      "needs_background": "light"
     },
     "output_type": "display_data"
    }
   ],
   "source": [
    "###Before removing outliers\n",
    "cp.boxplot(column='MSRP')"
   ]
  },
  {
   "cell_type": "code",
   "execution_count": 33,
   "metadata": {
    "scrolled": true
   },
   "outputs": [
    {
     "data": {
      "text/plain": [
       "<matplotlib.axes._subplots.AxesSubplot at 0x117b75b0>"
      ]
     },
     "execution_count": 33,
     "metadata": {},
     "output_type": "execute_result"
    },
    {
     "data": {
      "image/png": "[encoded data removed]",
      "text/plain": [
       "<Figure size 432x288 with 1 Axes>"
      ]
     },
     "metadata": {
      "needs_background": "light"
     },
     "output_type": "display_data"
    }
   ],
   "source": [
    "###After removing outliers\n",
    "Cleancp.boxplot(column='MSRP')"
   ]
  },
  {
   "cell_type": "code",
   "execution_count": 34,
   "metadata": {},
   "outputs": [
    {
     "data": {
      "image/png": "[encoded data removed]",
      "text/plain": [
       "<Figure size 792x648 with 2 Axes>"
      ]
     },
     "metadata": {
      "needs_background": "light"
     },
     "output_type": "display_data"
    }
   ],
   "source": [
    "###Data Visualization\n",
    "#Generate Correlation\n",
    "corr=Cleancp.corr()\n",
    "\n",
    "mask = np.zeros_like(corr, dtype=np.bool)\n",
    "mask[np.triu_indices_from(mask)] = True\n",
    "\n",
    "f, ax = plt.subplots(figsize=(11, 9))\n",
    "\n",
    "cmap = sns.diverging_palette(220, 10, as_cmap=True)\n",
    "\n",
    "# Draw the heatmap with the mask and correct aspect ratio\n",
    "sns.heatmap(corr, mask=mask, cmap=cmap, vmax=1, center=0,\n",
    "            square=True, linewidths=.5, cbar_kws={\"shrink\": .5})\n",
    "plt.show()"
   ]
  },
  {
   "cell_type": "code",
   "execution_count": 35,
   "metadata": {},
   "outputs": [
    {
     "data": {
      "text/html": [
       "<div>\n",
       "<style scoped>\n",
       "    .dataframe tbody tr th:only-of-type {\n",
       "        vertical-align: middle;\n",
       "    }\n",
       "\n",
       "    .dataframe tbody tr th {\n",
       "        vertical-align: top;\n",
       "    }\n",
       "\n",
       "    .dataframe thead th {\n",
       "        text-align: right;\n",
       "    }\n",
       "</style>\n",
       "<table border=\"1\" class=\"dataframe\">\n",
       "  <thead>\n",
       "    <tr style=\"text-align: right;\">\n",
       "      <th></th>\n",
       "      <th>Engine Fuel Type</th>\n",
       "      <th>Engine HP</th>\n",
       "      <th>Engine Cylinders</th>\n",
       "      <th>Transmission Type</th>\n",
       "      <th>Driven_Wheels</th>\n",
       "      <th>Number of Doors</th>\n",
       "      <th>Vehicle Size</th>\n",
       "      <th>highway MPG</th>\n",
       "      <th>city mpg</th>\n",
       "      <th>Age</th>\n",
       "      <th>MSRP</th>\n",
       "    </tr>\n",
       "  </thead>\n",
       "  <tbody>\n",
       "    <tr>\n",
       "      <th>Engine Fuel Type</th>\n",
       "      <td>1.000000</td>\n",
       "      <td>0.062617</td>\n",
       "      <td>0.057249</td>\n",
       "      <td>0.005386</td>\n",
       "      <td>0.051873</td>\n",
       "      <td>0.017527</td>\n",
       "      <td>0.165365</td>\n",
       "      <td>0.062407</td>\n",
       "      <td>0.060400</td>\n",
       "      <td>-0.160598</td>\n",
       "      <td>0.077150</td>\n",
       "    </tr>\n",
       "    <tr>\n",
       "      <th>Engine HP</th>\n",
       "      <td>0.062617</td>\n",
       "      <td>1.000000</td>\n",
       "      <td>0.716749</td>\n",
       "      <td>-0.223667</td>\n",
       "      <td>-0.275458</td>\n",
       "      <td>0.024559</td>\n",
       "      <td>0.545880</td>\n",
       "      <td>-0.385522</td>\n",
       "      <td>-0.440450</td>\n",
       "      <td>-0.360061</td>\n",
       "      <td>0.736026</td>\n",
       "    </tr>\n",
       "    <tr>\n",
       "      <th>Engine Cylinders</th>\n",
       "      <td>0.057249</td>\n",
       "      <td>0.716749</td>\n",
       "      <td>1.000000</td>\n",
       "      <td>-0.273835</td>\n",
       "      <td>-0.171186</td>\n",
       "      <td>-0.028212</td>\n",
       "      <td>0.609292</td>\n",
       "      <td>-0.614825</td>\n",
       "      <td>-0.630291</td>\n",
       "      <td>0.084090</td>\n",
       "      <td>0.350847</td>\n",
       "    </tr>\n",
       "    <tr>\n",
       "      <th>Transmission Type</th>\n",
       "      <td>0.005386</td>\n",
       "      <td>-0.223667</td>\n",
       "      <td>-0.273835</td>\n",
       "      <td>1.000000</td>\n",
       "      <td>0.012676</td>\n",
       "      <td>-0.330322</td>\n",
       "      <td>-0.373807</td>\n",
       "      <td>0.246098</td>\n",
       "      <td>0.238358</td>\n",
       "      <td>0.170780</td>\n",
       "      <td>-0.227596</td>\n",
       "    </tr>\n",
       "    <tr>\n",
       "      <th>Driven_Wheels</th>\n",
       "      <td>0.051873</td>\n",
       "      <td>-0.275458</td>\n",
       "      <td>-0.171186</td>\n",
       "      <td>0.012676</td>\n",
       "      <td>1.000000</td>\n",
       "      <td>0.195653</td>\n",
       "      <td>-0.068807</td>\n",
       "      <td>0.120611</td>\n",
       "      <td>0.146933</td>\n",
       "      <td>0.013002</td>\n",
       "      <td>-0.178524</td>\n",
       "    </tr>\n",
       "    <tr>\n",
       "      <th>Number of Doors</th>\n",
       "      <td>0.017527</td>\n",
       "      <td>0.024559</td>\n",
       "      <td>-0.028212</td>\n",
       "      <td>-0.330322</td>\n",
       "      <td>0.195653</td>\n",
       "      <td>1.000000</td>\n",
       "      <td>0.190525</td>\n",
       "      <td>0.068113</td>\n",
       "      <td>0.086594</td>\n",
       "      <td>-0.275794</td>\n",
       "      <td>0.161374</td>\n",
       "    </tr>\n",
       "    <tr>\n",
       "      <th>Vehicle Size</th>\n",
       "      <td>0.165365</td>\n",
       "      <td>0.545880</td>\n",
       "      <td>0.609292</td>\n",
       "      <td>-0.373807</td>\n",
       "      <td>-0.068807</td>\n",
       "      <td>0.190525</td>\n",
       "      <td>1.000000</td>\n",
       "      <td>-0.346741</td>\n",
       "      <td>-0.366384</td>\n",
       "      <td>-0.091523</td>\n",
       "      <td>0.352864</td>\n",
       "    </tr>\n",
       "    <tr>\n",
       "      <th>highway MPG</th>\n",
       "      <td>0.062407</td>\n",
       "      <td>-0.385522</td>\n",
       "      <td>-0.614825</td>\n",
       "      <td>0.246098</td>\n",
       "      <td>0.120611</td>\n",
       "      <td>0.068113</td>\n",
       "      <td>-0.346741</td>\n",
       "      <td>1.000000</td>\n",
       "      <td>0.828105</td>\n",
       "      <td>-0.284689</td>\n",
       "      <td>-0.072513</td>\n",
       "    </tr>\n",
       "    <tr>\n",
       "      <th>city mpg</th>\n",
       "      <td>0.060400</td>\n",
       "      <td>-0.440450</td>\n",
       "      <td>-0.630291</td>\n",
       "      <td>0.238358</td>\n",
       "      <td>0.146933</td>\n",
       "      <td>0.086594</td>\n",
       "      <td>-0.366384</td>\n",
       "      <td>0.828105</td>\n",
       "      <td>1.000000</td>\n",
       "      <td>-0.242624</td>\n",
       "      <td>-0.118300</td>\n",
       "    </tr>\n",
       "    <tr>\n",
       "      <th>Age</th>\n",
       "      <td>-0.160598</td>\n",
       "      <td>-0.360061</td>\n",
       "      <td>0.084090</td>\n",
       "      <td>0.170780</td>\n",
       "      <td>0.013002</td>\n",
       "      <td>-0.275794</td>\n",
       "      <td>-0.091523</td>\n",
       "      <td>-0.284689</td>\n",
       "      <td>-0.242624</td>\n",
       "      <td>1.000000</td>\n",
       "      <td>-0.646781</td>\n",
       "    </tr>\n",
       "    <tr>\n",
       "      <th>MSRP</th>\n",
       "      <td>0.077150</td>\n",
       "      <td>0.736026</td>\n",
       "      <td>0.350847</td>\n",
       "      <td>-0.227596</td>\n",
       "      <td>-0.178524</td>\n",
       "      <td>0.161374</td>\n",
       "      <td>0.352864</td>\n",
       "      <td>-0.072513</td>\n",
       "      <td>-0.118300</td>\n",
       "      <td>-0.646781</td>\n",
       "      <td>1.000000</td>\n",
       "    </tr>\n",
       "  </tbody>\n",
       "</table>\n",
       "</div>"
      ],
      "text/plain": [
       "                   Engine Fuel Type  Engine HP  Engine Cylinders  \\\n",
       "Engine Fuel Type           1.000000   0.062617          0.057249   \n",
       "Engine HP                  0.062617   1.000000          0.716749   \n",
       "Engine Cylinders           0.057249   0.716749          1.000000   \n",
       "Transmission Type          0.005386  -0.223667         -0.273835   \n",
       "Driven_Wheels              0.051873  -0.275458         -0.171186   \n",
       "Number of Doors            0.017527   0.024559         -0.028212   \n",
       "Vehicle Size               0.165365   0.545880          0.609292   \n",
       "highway MPG                0.062407  -0.385522         -0.614825   \n",
       "city mpg                   0.060400  -0.440450         -0.630291   \n",
       "Age                       -0.160598  -0.360061          0.084090   \n",
       "MSRP                       0.077150   0.736026          0.350847   \n",
       "\n",
       "                   Transmission Type  Driven_Wheels  Number of Doors  \\\n",
       "Engine Fuel Type            0.005386       0.051873         0.017527   \n",
       "Engine HP                  -0.223667      -0.275458         0.024559   \n",
       "Engine Cylinders           -0.273835      -0.171186        -0.028212   \n",
       "Transmission Type           1.000000       0.012676        -0.330322   \n",
       "Driven_Wheels               0.012676       1.000000         0.195653   \n",
       "Number of Doors            -0.330322       0.195653         1.000000   \n",
       "Vehicle Size               -0.373807      -0.068807         0.190525   \n",
       "highway MPG                 0.246098       0.120611         0.068113   \n",
       "city mpg                    0.238358       0.146933         0.086594   \n",
       "Age                         0.170780       0.013002        -0.275794   \n",
       "MSRP                       -0.227596      -0.178524         0.161374   \n",
       "\n",
       "                   Vehicle Size  highway MPG  city mpg       Age      MSRP  \n",
       "Engine Fuel Type       0.165365     0.062407  0.060400 -0.160598  0.077150  \n",
       "Engine HP              0.545880    -0.385522 -0.440450 -0.360061  0.736026  \n",
       "Engine Cylinders       0.609292    -0.614825 -0.630291  0.084090  0.350847  \n",
       "Transmission Type     -0.373807     0.246098  0.238358  0.170780 -0.227596  \n",
       "Driven_Wheels         -0.068807     0.120611  0.146933  0.013002 -0.178524  \n",
       "Number of Doors        0.190525     0.068113  0.086594 -0.275794  0.161374  \n",
       "Vehicle Size           1.000000    -0.346741 -0.366384 -0.091523  0.352864  \n",
       "highway MPG           -0.346741     1.000000  0.828105 -0.284689 -0.072513  \n",
       "city mpg              -0.366384     0.828105  1.000000 -0.242624 -0.118300  \n",
       "Age                   -0.091523    -0.284689 -0.242624  1.000000 -0.646781  \n",
       "MSRP                   0.352864    -0.072513 -0.118300 -0.646781  1.000000  "
      ]
     },
     "execution_count": 35,
     "metadata": {},
     "output_type": "execute_result"
    }
   ],
   "source": [
    "corr"
   ]
  },
  {
   "cell_type": "code",
   "execution_count": 36,
   "metadata": {},
   "outputs": [
    {
     "data": {
      "text/plain": [
       "<seaborn.axisgrid.PairGrid at 0x11715f10>"
      ]
     },
     "execution_count": 36,
     "metadata": {},
     "output_type": "execute_result"
    },
    {
     "data": {
      "image/png": "[encoded data removed]",
      "text/plain": [
       "<Figure size 360x180 with 2 Axes>"
      ]
     },
     "metadata": {
      "needs_background": "light"
     },
     "output_type": "display_data"
    }
   ],
   "source": [
    "###Plot against MSRP\n",
    "sns.pairplot(data=Cleancp,\n",
    "                  y_vars=['MSRP'],\n",
    "                  x_vars=['Engine Fuel Type', 'Engine HP'])"
   ]
  },
  {
   "cell_type": "code",
   "execution_count": 37,
   "metadata": {},
   "outputs": [
    {
     "data": {
      "text/plain": [
       "<seaborn.axisgrid.PairGrid at 0x1176daf0>"
      ]
     },
     "execution_count": 37,
     "metadata": {},
     "output_type": "execute_result"
    },
    {
     "data": {
      "image/png": "[encoded data removed]",
      "text/plain": [
       "<Figure size 360x180 with 2 Axes>"
      ]
     },
     "metadata": {
      "needs_background": "light"
     },
     "output_type": "display_data"
    }
   ],
   "source": [
    "sns.pairplot(data=Cleancp,\n",
    "                  y_vars=['MSRP'],\n",
    "                  x_vars=['Engine Cylinders','Transmission Type'])"
   ]
  },
  {
   "cell_type": "code",
   "execution_count": 38,
   "metadata": {},
   "outputs": [
    {
     "data": {
      "text/plain": [
       "<seaborn.axisgrid.PairGrid at 0x11641430>"
      ]
     },
     "execution_count": 38,
     "metadata": {},
     "output_type": "execute_result"
    },
    {
     "data": {
      "image/png": "[encoded data removed]",
      "text/plain": [
       "<Figure size 360x180 with 2 Axes>"
      ]
     },
     "metadata": {
      "needs_background": "light"
     },
     "output_type": "display_data"
    }
   ],
   "source": [
    "sns.pairplot(data=Cleancp,\n",
    "                  y_vars=['MSRP'],\n",
    "                  x_vars=['Driven_Wheels', 'Number of Doors'])"
   ]
  },
  {
   "cell_type": "code",
   "execution_count": 39,
   "metadata": {},
   "outputs": [
    {
     "data": {
      "text/plain": [
       "<seaborn.axisgrid.PairGrid at 0x117156f0>"
      ]
     },
     "execution_count": 39,
     "metadata": {},
     "output_type": "execute_result"
    },
    {
     "data": {
      "image/png": "[encoded data removed]",
      "text/plain": [
       "<Figure size 360x180 with 2 Axes>"
      ]
     },
     "metadata": {
      "needs_background": "light"
     },
     "output_type": "display_data"
    }
   ],
   "source": [
    "sns.pairplot(data=Cleancp,\n",
    "                  y_vars=['MSRP'],\n",
    "                  x_vars=['Vehicle Size','highway MPG',])"
   ]
  },
  {
   "cell_type": "code",
   "execution_count": 40,
   "metadata": {},
   "outputs": [
    {
     "data": {
      "text/plain": [
       "<seaborn.axisgrid.PairGrid at 0x12a6bb30>"
      ]
     },
     "execution_count": 40,
     "metadata": {},
     "output_type": "execute_result"
    },
    {
     "data": {
      "image/png": "[encoded data removed]",
      "text/plain": [
       "<Figure size 360x180 with 2 Axes>"
      ]
     },
     "metadata": {
      "needs_background": "light"
     },
     "output_type": "display_data"
    }
   ],
   "source": [
    "sns.pairplot(data=Cleancp,\n",
    "                  y_vars=['MSRP'],\n",
    "                  x_vars=['city mpg','Age'])"
   ]
  },
  {
   "cell_type": "code",
   "execution_count": 41,
   "metadata": {},
   "outputs": [
    {
     "data": {
      "text/plain": [
       "<matplotlib.axes._subplots.AxesSubplot at 0x12af6470>"
      ]
     },
     "execution_count": 41,
     "metadata": {},
     "output_type": "execute_result"
    },
    {
     "data": {
      "image/png": "[encoded data removed]",
      "text/plain": [
       "<Figure size 432x288 with 1 Axes>"
      ]
     },
     "metadata": {
      "needs_background": "light"
     },
     "output_type": "display_data"
    }
   ],
   "source": [
    "###Distributions\n",
    "Cleancp['MSRP'].plot(kind='kde')"
   ]
  },
  {
   "cell_type": "code",
   "execution_count": 42,
   "metadata": {},
   "outputs": [
    {
     "data": {
      "text/plain": [
       "<matplotlib.axes._subplots.AxesSubplot at 0x12ac8ad0>"
      ]
     },
     "execution_count": 42,
     "metadata": {},
     "output_type": "execute_result"
    },
    {
     "data": {
      "image/png": "[encoded data removed]",
      "text/plain": [
       "<Figure size 432x288 with 1 Axes>"
      ]
     },
     "metadata": {
      "needs_background": "light"
     },
     "output_type": "display_data"
    }
   ],
   "source": [
    "Cleancp['Engine HP'].plot(kind='kde')"
   ]
  },
  {
   "cell_type": "code",
   "execution_count": 43,
   "metadata": {},
   "outputs": [
    {
     "data": {
      "text/plain": [
       "<matplotlib.axes._subplots.AxesSubplot at 0x12d398d0>"
      ]
     },
     "execution_count": 43,
     "metadata": {},
     "output_type": "execute_result"
    },
    {
     "data": {
      "image/png": "[encoded data removed]",
      "text/plain": [
       "<Figure size 432x288 with 1 Axes>"
      ]
     },
     "metadata": {
      "needs_background": "light"
     },
     "output_type": "display_data"
    }
   ],
   "source": [
    "Cleancp['highway MPG'].plot(kind='kde')"
   ]
  },
  {
   "cell_type": "code",
   "execution_count": 44,
   "metadata": {},
   "outputs": [
    {
     "data": {
      "text/plain": [
       "<matplotlib.axes._subplots.AxesSubplot at 0x12d78cf0>"
      ]
     },
     "execution_count": 44,
     "metadata": {},
     "output_type": "execute_result"
    },
    {
     "data": {
      "image/png": "[encoded data removed]",
      "text/plain": [
       "<Figure size 432x288 with 1 Axes>"
      ]
     },
     "metadata": {
      "needs_background": "light"
     },
     "output_type": "display_data"
    }
   ],
   "source": [
    "Cleancp['city mpg'].plot(kind='kde')"
   ]
  },
  {
   "cell_type": "code",
   "execution_count": 45,
   "metadata": {},
   "outputs": [
    {
     "data": {
      "text/plain": [
       "<matplotlib.axes._subplots.AxesSubplot at 0x12db86f0>"
      ]
     },
     "execution_count": 45,
     "metadata": {},
     "output_type": "execute_result"
    },
    {
     "data": {
      "image/png": "[encoded data removed]",
      "text/plain": [
       "<Figure size 432x288 with 1 Axes>"
      ]
     },
     "metadata": {
      "needs_background": "light"
     },
     "output_type": "display_data"
    }
   ],
   "source": [
    "Cleancp['Age'].plot(kind='kde')"
   ]
  },
  {
   "cell_type": "code",
   "execution_count": null,
   "metadata": {},
   "outputs": [],
   "source": []
  },
  {
   "cell_type": "code",
   "execution_count": null,
   "metadata": {},
   "outputs": [],
   "source": []
  }
 ],
 "metadata": {
  "kernelspec": {
   "display_name": "Python 3",
   "language": "python",
   "name": "python3"
  },
  "language_info": {
   "codemirror_mode": {
    "name": "ipython",
    "version": 3
   },
   "file_extension": ".py",
   "mimetype": "text/x-python",
   "name": "python",
   "nbconvert_exporter": "python",
   "pygments_lexer": "ipython3",
   "version": "3.7.1"
  }
 },
 "nbformat": 4,
 "nbformat_minor": 2
}
