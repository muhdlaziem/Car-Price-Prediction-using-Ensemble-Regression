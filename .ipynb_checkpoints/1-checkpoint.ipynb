{
 "cells": [
  {
   "cell_type": "code",
   "execution_count": 1,
   "metadata": {},
   "outputs": [],
   "source": [
    "#importing libraries for modelling\n",
    "import numpy as np\n",
    "import pandas as pd\n",
    "\n",
    "#taking care of varibles required for our linear model\n",
    "dataset=pd.read_csv('cp.csv')\n",
    "x=dataset.iloc[:,2:9].values\n",
    "y=dataset.iloc[:,-2].values\n",
    "\n",
    "theta=np.array([[0,0,0,0,0,0,0,0]])\n",
    "y=y.reshape(10460,1)\n",
    "x=np.c_[np.ones(x.shape[0]),x]\n",
    "m=y.shape[0]\n",
    "alpha=0.0001"
   ]
  },
  {
   "cell_type": "code",
   "execution_count": 13,
   "metadata": {},
   "outputs": [
    {
     "data": {
      "text/plain": [
       "array([[46135],\n",
       "       [40650],\n",
       "       [36350],\n",
       "       ...,\n",
       "       [50620],\n",
       "       [50920],\n",
       "       [28995]], dtype=int64)"
      ]
     },
     "execution_count": 13,
     "metadata": {},
     "output_type": "execute_result"
    }
   ],
   "source": [
    "y"
   ]
  },
  {
   "cell_type": "code",
   "execution_count": 3,
   "metadata": {},
   "outputs": [
    {
     "name": "stdout",
     "output_type": "stream",
     "text": [
      "[4.51199409e+08]\n"
     ]
    }
   ],
   "source": [
    "#calculating error differance between predtion and original before implementing\n",
    "pred=np.dot(theta,x.T) \n",
    "pred=pred.reshape(10460,1)\n",
    "print(sum(y-pred))"
   ]
  },
  {
   "cell_type": "code",
   "execution_count": 14,
   "metadata": {},
   "outputs": [
    {
     "data": {
      "text/plain": [
       "array([[0.],\n",
       "       [0.],\n",
       "       [0.],\n",
       "       ...,\n",
       "       [0.],\n",
       "       [0.],\n",
       "       [0.]])"
      ]
     },
     "execution_count": 14,
     "metadata": {},
     "output_type": "execute_result"
    }
   ],
   "source": [
    "pred"
   ]
  },
  {
   "cell_type": "code",
   "execution_count": 5,
   "metadata": {},
   "outputs": [
    {
     "name": "stdout",
     "output_type": "stream",
     "text": [
      "intial_cost= 2924706283.844407\n"
     ]
    }
   ],
   "source": [
    "#defing a cost function to calculate cost actually we don't need it but its a good practice\n",
    "def cost_function(x,y,theta,m):\n",
    "    return np.sum((np.dot(x,theta.T)-y)**2)/(2*m);\n",
    "#printing cost intial cost for referance for future use\n",
    "print(\"intial_cost=\", cost_function(x,y,theta,m))"
   ]
  },
  {
   "cell_type": "code",
   "execution_count": null,
   "metadata": {},
   "outputs": [],
   "source": []
  },
  {
   "cell_type": "code",
   "execution_count": 6,
   "metadata": {},
   "outputs": [
    {
     "name": "stdout",
     "output_type": "stream",
     "text": [
      "[-4.51199409e+08]\n"
     ]
    }
   ],
   "source": [
    "#again calculating error after model is trained    \n",
    "pred=np.dot(theta,x.T) \n",
    "pred=pred.reshape(10460,1)\n",
    "print(sum(pred-y))"
   ]
  },
  {
   "cell_type": "code",
   "execution_count": 7,
   "metadata": {},
   "outputs": [
    {
     "name": "stdout",
     "output_type": "stream",
     "text": [
      "final cost 2924706283.844407\n"
     ]
    }
   ],
   "source": [
    "print(\"final cost\",cost_function(x,y,theta,m))"
   ]
  },
  {
   "cell_type": "code",
   "execution_count": 8,
   "metadata": {},
   "outputs": [
    {
     "name": "stdout",
     "output_type": "stream",
     "text": [
      "[[0 0 0 0 0 0 0 0]]\n"
     ]
    }
   ],
   "source": [
    "print(theta)"
   ]
  },
  {
   "cell_type": "code",
   "execution_count": 9,
   "metadata": {},
   "outputs": [
    {
     "data": {
      "text/plain": [
       "array([[0.],\n",
       "       [0.],\n",
       "       [0.],\n",
       "       ...,\n",
       "       [0.],\n",
       "       [0.],\n",
       "       [0.]])"
      ]
     },
     "execution_count": 9,
     "metadata": {},
     "output_type": "execute_result"
    }
   ],
   "source": [
    "pred"
   ]
  },
  {
   "cell_type": "code",
   "execution_count": null,
   "metadata": {},
   "outputs": [],
   "source": []
  }
 ],
 "metadata": {
  "kernelspec": {
   "display_name": "Python 3",
   "language": "python",
   "name": "python3"
  },
  "language_info": {
   "codemirror_mode": {
    "name": "ipython",
    "version": 3
   },
   "file_extension": ".py",
   "mimetype": "text/x-python",
   "name": "python",
   "nbconvert_exporter": "python",
   "pygments_lexer": "ipython3",
   "version": "3.7.1"
  }
 },
 "nbformat": 4,
 "nbformat_minor": 2
}
