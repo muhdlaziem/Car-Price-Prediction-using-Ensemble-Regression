{
 "cells": [
  {
   "cell_type": "code",
   "execution_count": 1,
   "metadata": {},
   "outputs": [],
   "source": [
    "import numpy as np\n",
    "import pandas as pd\n",
    "import matplotlib.pyplot as plt\n",
    "from mpl_toolkits.mplot3d import Axes3D\n",
    "import csv\n",
    "import random\n",
    "import math\n",
    "import operator\n",
    "from copy import deepcopy\n",
    "\n",
    "###KNN Regression\n",
    "#loadDataset and splitting\n",
    "def loadDataset(filename, split, trainingSet=[] , testSet=[]):\n",
    "        lines = csv.reader(open(filename)) #open the data file\n",
    "        next(lines,None)\n",
    "        dataset = list(lines) # make it into a list\n",
    "        dataset\n",
    "        for x in range(len(dataset)):\n",
    "            for y in range(11):\n",
    "                dataset[x][y] = float(dataset[x][y]) #changing the datatype\n",
    "            if random.random() < split:\n",
    "                trainingSet.append(dataset[x])\n",
    "            else:\n",
    "                testSet.append(dataset[x])\n",
    "                \n",
    "#compute euclideanDistance\n",
    "def euclideanDistance(instance1, instance2, length): # calculate distance between point\n",
    "    distance = 0\n",
    "    for x in range(length):\n",
    "        distance += pow((instance1[x] - instance2[x]), 2)\n",
    "    return math.sqrt(distance)\n",
    "\n",
    "#compute neighbors\n",
    "def getNeighbors(trainingSet, testInstance, k): #find closest points  \n",
    "    distances = []\n",
    "    length = len(testInstance)-1\n",
    "    for x in range(len(trainingSet)):\n",
    "        dist = euclideanDistance(testInstance, trainingSet[x], length)\n",
    "        distances.append((trainingSet[x], dist))\n",
    "    distances.sort(key=operator.itemgetter(1))\n",
    "    neighbors = []\n",
    "    for x in range(k):\n",
    "        neighbors.append(distances[x][0])\n",
    "    return neighbors\n",
    "\n",
    "def getResponse(neighbors): # calculate the average of nighbors\n",
    "    l = np.array(neighbors)[:,10]\n",
    "    avgneighbors = sum(l)/len(l)\n",
    "    return avgneighbors\n",
    "\n",
    "def getResponseweighted(neighbors): # calculate the average of nighbors\n",
    "    l = np.array(neighbors)[:,4]\n",
    "    avgneighbors = sum(l)/len(l)\n",
    "    return avgneighbors\n",
    "\n",
    "##Model Evaluation\n",
    "#RMSE\n",
    "def rmse(Y, Y_pred): #calculate rmse\n",
    "    rmse = np.sqrt(sum((Y - Y_pred) ** 2) / len(Y))\n",
    "    return rmse\n",
    "\n",
    "#R2\n",
    "def r2_score(Y, Y_pred): #calculate r2\n",
    "    mean_y = np.mean(Y)\n",
    "    ss_tot = sum((Y - mean_y) ** 2)\n",
    "    ss_res = sum((Y - Y_pred) ** 2)\n",
    "    r2 = 1 - (ss_res / ss_tot)\n",
    "    return r2"
   ]
  },
  {
   "cell_type": "code",
   "execution_count": 2,
   "metadata": {
    "scrolled": true
   },
   "outputs": [
    {
     "name": "stdout",
     "output_type": "stream",
     "text": [
      "Train set: 6997\n",
      "Test set: 1723\n",
      "RMSE (KNN)\n",
      "4730.331821328421\n",
      "R2 Score (KNN)\n",
      "0.8996727251917191\n",
      "RMSE (KNN_W)\n",
      "5319.30951237083\n",
      "R2 Score (KNN_W)\n",
      "0.8731336851278295\n"
     ]
    }
   ],
   "source": [
    "##initialize train and set\n",
    "trainingSet=[]\n",
    "testSet=[]\n",
    "split = 0.8\n",
    "loadDataset('cp.csv', split, trainingSet, testSet) #load split the dataset\n",
    "print('Train set: ' + repr(len(trainingSet))) #display number of training and test set\n",
    "print('Test set: ' + repr(len(testSet)))\n",
    "weighted_train = deepcopy(trainingSet)\n",
    "weighted_test = deepcopy(testSet)\n",
    "for row in weighted_train:\n",
    "    #del row[7]\n",
    "    del row[6]\n",
    "    del row[5]\n",
    "    del row[4]\n",
    "    del row[3]\n",
    "    del row[2]\n",
    "    del row[0]\n",
    "for row in weighted_test:\n",
    "    #del row[7]\n",
    "    del row[6]\n",
    "    del row[5]\n",
    "    del row[4]\n",
    "    del row[3]\n",
    "    del row[2]\n",
    "    del row[0]\n",
    "\n",
    "# generate predictions\n",
    "predictions=[]\n",
    "predictions_w=[]\n",
    "k = 3\n",
    "for x in range(len(testSet)):\n",
    "    neighbors = getNeighbors(trainingSet, testSet[x], k)\n",
    "    result = getResponse(neighbors)\n",
    "    predictions.append(result)\n",
    "for x in range(len(weighted_test)):\n",
    "    neighbors_w = getNeighbors(weighted_train, weighted_test[x], k)\n",
    "    result = getResponseweighted(neighbors_w)\n",
    "    predictions_w.append(result)\n",
    "Y = np.array(testSet)[:,10]\n",
    "Y_w = np.array(weighted_test)[:,4]\n",
    "Y_pred_knn = predictions\n",
    "Y_pred_knn_w = predictions_w\n",
    "\n",
    "print(\"RMSE (KNN)\") #calculate for rmse and R2\n",
    "print(rmse(Y, Y_pred_knn))\n",
    "print(\"R2 Score (KNN)\")\n",
    "print(r2_score(Y, Y_pred_knn))\n",
    "print(\"RMSE (KNN_W)\") #calculate for rmse and R2\n",
    "print(rmse(Y_w, Y_pred_knn_w))\n",
    "print(\"R2 Score (KNN_W)\")\n",
    "print(r2_score(Y_w, Y_pred_knn_w))"
   ]
  },
  {
   "cell_type": "code",
   "execution_count": 3,
   "metadata": {},
   "outputs": [],
   "source": [
    "### Multivariate Linear Regression\n",
    "#Getting the variables to array.\n",
    "EngineFuelType = np.array(trainingSet)[:,0]\n",
    "EngineHP = np.array(trainingSet)[:,1]\n",
    "EngineCylinders = np.array(trainingSet)[:,2]\n",
    "TransmissionType  = np.array(trainingSet)[:,3]\n",
    "Driven_Wheels = np.array(trainingSet)[:,4]\n",
    "NumberofDoors = np.array(trainingSet)[:,5]\n",
    "VehicleSize = np.array(trainingSet)[:,6]\n",
    "highwayMPG = np.array(trainingSet)[:,7]\n",
    "citympg = np.array(trainingSet)[:,8]\n",
    "# MSRP = data['MSRP'].values\n",
    "Age = np.array(trainingSet)[:,9]"
   ]
  },
  {
   "cell_type": "code",
   "execution_count": 4,
   "metadata": {
    "scrolled": true
   },
   "outputs": [
    {
     "name": "stdout",
     "output_type": "stream",
     "text": [
      "[1.0, 300.0, 6.0, 1.0, 1.0, 2.0, 1.0, 28.0, 19.0, 6.0, 40650.0]\n"
     ]
    }
   ],
   "source": [
    "print(testSet[0])"
   ]
  },
  {
   "cell_type": "code",
   "execution_count": 5,
   "metadata": {},
   "outputs": [
    {
     "name": "stdout",
     "output_type": "stream",
     "text": [
      "Initial Cost\n",
      "593336899.2428184\n",
      "Initial Cost weighted\n",
      "593336899.2428184\n"
     ]
    }
   ],
   "source": [
    "#generate our parameters(the theta values)\n",
    "m = len(trainingSet)\n",
    "x0 = np.ones(m)\n",
    "X = np.array([x0, EngineFuelType, EngineHP,EngineCylinders, TransmissionType,\n",
    "              Driven_Wheels, NumberofDoors, VehicleSize, highwayMPG, citympg, Age]).T\n",
    "X_w = np.array([x0,EngineHP, Age, highwayMPG, citympg]).T\n",
    "# Initial Coefficients\n",
    "B = np.array([0, 0, 0, 0, 0, 0, 0, 0, 0, 0, 0])\n",
    "B_w = np.array([0, 0, 0, 0, 0])\n",
    "Y = np.array(trainingSet)[:,10]\n",
    "# learning rate\n",
    "alpha = 0.00001\n",
    "\n",
    "# define our cost function.\n",
    "def cost_function(X, Y, B):\n",
    "    m = len(Y)\n",
    "    J = np.sum((X.dot(B) - Y) ** 2)/(2 * m)\n",
    "    return J\n",
    "\n",
    "inital_cost = cost_function(X, Y, B)\n",
    "print(\"Initial Cost\")\n",
    "print(inital_cost)\n",
    "inital_cost = cost_function(X_w, Y, B_w)\n",
    "print(\"Initial Cost weighted\")\n",
    "print(inital_cost)"
   ]
  },
  {
   "cell_type": "code",
   "execution_count": 6,
   "metadata": {},
   "outputs": [
    {
     "name": "stdout",
     "output_type": "stream",
     "text": [
      "New Coefficients\n",
      "[  -4.64705236  -37.41825681  127.6934206  -105.08366471   70.62263181\n",
      "  105.80212381   39.30575845  -17.61690202  125.43327001  106.6959922\n",
      " -799.39711222]\n",
      "New Coefficients Weighted\n",
      "[  -4.77896927  126.2752366  -808.78897305  129.60564634  110.67120194]\n"
     ]
    }
   ],
   "source": [
    "#Defining the Gradient Descent\n",
    "def gradient_descent(X, Y, B, alpha, iterations):\n",
    "    cost_history = [0] * iterations\n",
    "    m = len(Y)\n",
    "    \n",
    "    for iteration in range(iterations):\n",
    "        # Hypothesis Values\n",
    "        h = X.dot(B)\n",
    "        # Difference b/w Hypothesis and Actual Y\n",
    "        loss = h - Y\n",
    "        # Gradient Calculation\n",
    "        gradient = X.T.dot(loss) / m\n",
    "        # Changing Values of B using Gradient\n",
    "        B = B - alpha * gradient\n",
    "        # New Cost Value\n",
    "        cost = cost_function(X, Y, B)\n",
    "        cost_history[iteration] = cost\n",
    "        \n",
    "    return B, cost_history\n",
    "\n",
    "# 10000 Iterations\n",
    "newB, cost_history = gradient_descent(X, Y, B, alpha, 10000)\n",
    "newB_w, cost_history_w = gradient_descent(X_w, Y, B_w, alpha, 10000)\n",
    "# New Values of Coefficients\n",
    "print(\"New Coefficients\")\n",
    "print(newB)\n",
    "print(\"New Coefficients Weighted\")\n",
    "print(newB_w)"
   ]
  },
  {
   "cell_type": "code",
   "execution_count": 7,
   "metadata": {},
   "outputs": [
    {
     "name": "stdout",
     "output_type": "stream",
     "text": [
      "Final Cost\n",
      "35574006.380012535\n",
      "Final Cost Weighted\n",
      "35791826.0090052\n"
     ]
    }
   ],
   "source": [
    "# Final Cost of new B\n",
    "print(\"Final Cost\")\n",
    "print(cost_history[-1])\n",
    "print(\"Final Cost Weighted\")\n",
    "print(cost_history_w[-1])"
   ]
  },
  {
   "cell_type": "code",
   "execution_count": 8,
   "metadata": {},
   "outputs": [
    {
     "name": "stdout",
     "output_type": "stream",
     "text": [
      "RMSE (MLR)\n",
      "8447.541487926605\n",
      "R2 Score (MLR)\n",
      "0.6800394244104737\n",
      "RMSE (MLR) Weighted\n",
      "8481.274117343766\n",
      "R2 Score (MLR) Weighted\n",
      "0.6774789963837355\n"
     ]
    }
   ],
   "source": [
    "##predicting\n",
    "#Getting the variables to array for testSet\n",
    "EngineFuelType_T = np.array(testSet)[:,0]\n",
    "EngineHP_T = np.array(testSet)[:,1]\n",
    "EngineCylinders_T = np.array(testSet)[:,2]\n",
    "TransmissionType_T  = np.array(testSet)[:,3]\n",
    "Driven_Wheels_T = np.array(testSet)[:,4]\n",
    "NumberofDoors_T = np.array(testSet)[:,5]\n",
    "VehicleSize_T = np.array(testSet)[:,6]\n",
    "highwayMPG_T = np.array(testSet)[:,7]\n",
    "citympg_T = np.array(testSet)[:,8]\n",
    "# MSRP = data['MSRP'].values\n",
    "Age_T = np.array(testSet)[:,9]\n",
    "\n",
    "m = len(testSet)\n",
    "x0 = np.ones(m)\n",
    "X_test = np.array([x0, EngineFuelType_T, EngineHP_T,EngineCylinders_T, TransmissionType_T,\n",
    "              Driven_Wheels_T, NumberofDoors_T, VehicleSize_T, highwayMPG_T, citympg_T, Age_T]).T\n",
    "X_test_w = np.array([x0,  EngineHP_T, Age_T, highwayMPG_T, citympg_T]).T\n",
    "Y_test = np.array(testSet)[:,10]\n",
    "\n",
    "\n",
    "Y_pred_mlr = X_test.dot(newB)\n",
    "Y_pred_mlr_w = X_test_w.dot(newB_w)\n",
    "\n",
    "print(\"RMSE (MLR)\")\n",
    "print(rmse(Y_test, Y_pred_mlr))\n",
    "print(\"R2 Score (MLR)\")\n",
    "print(r2_score(Y_test, Y_pred_mlr))\n",
    "print(\"RMSE (MLR) Weighted\")\n",
    "print(rmse(Y_test, Y_pred_mlr_w))\n",
    "print(\"R2 Score (MLR) Weighted\")\n",
    "print(r2_score(Y_test, Y_pred_mlr_w))"
   ]
  },
  {
   "cell_type": "code",
   "execution_count": 9,
   "metadata": {},
   "outputs": [],
   "source": [
    "###Averaging MLR and KNN model\n",
    "pred_mlr_knn = (Y_pred_mlr+Y_pred_knn)/2"
   ]
  },
  {
   "cell_type": "code",
   "execution_count": 10,
   "metadata": {
    "scrolled": false
   },
   "outputs": [
    {
     "name": "stdout",
     "output_type": "stream",
     "text": [
      "RMSE (Final Result)\n",
      "5696.924111584599\n",
      "R2 Score (Final Result)\n",
      "0.8544820153984418\n"
     ]
    }
   ],
   "source": [
    "print(\"RMSE (Final Result)\")\n",
    "print(rmse(Y_test, pred_mlr_knn ))\n",
    "print(\"R2 Score (Final Result)\")\n",
    "print(r2_score(Y_test, pred_mlr_knn ))"
   ]
  },
  {
   "cell_type": "code",
   "execution_count": 11,
   "metadata": {},
   "outputs": [],
   "source": [
    "###Averaging MLR and KNN model with feature selection\n",
    "pred_mlr_knn = (Y_pred_mlr_w+Y_pred_knn_w)/2"
   ]
  },
  {
   "cell_type": "code",
   "execution_count": 12,
   "metadata": {},
   "outputs": [
    {
     "name": "stdout",
     "output_type": "stream",
     "text": [
      "RMSE (Final Result) with attribute selection on both\n",
      "6001.785405759958\n",
      "R2 Score (Final Result) with attribute selection on both\n",
      "0.8384909997229634\n"
     ]
    }
   ],
   "source": [
    "print(\"RMSE (Final Result) with attribute selection on both\")\n",
    "print(rmse(Y_test, pred_mlr_knn ))\n",
    "print(\"R2 Score (Final Result) with attribute selection on both\")\n",
    "print(r2_score(Y_test, pred_mlr_knn ))"
   ]
  },
  {
   "cell_type": "code",
   "execution_count": 13,
   "metadata": {},
   "outputs": [],
   "source": [
    "###Averaging MLR and KNN model with weight mlr=4/14, knn=10/14\n",
    "pred_mlr_knn_w = (np.dot(Y_pred_mlr_w,4)+np.dot(Y_pred_knn,10))/14"
   ]
  },
  {
   "cell_type": "code",
   "execution_count": 14,
   "metadata": {
    "scrolled": true
   },
   "outputs": [
    {
     "name": "stdout",
     "output_type": "stream",
     "text": [
      "RMSE (Final Result) weighted with attribute selection on linear regression\n",
      "4965.782922108323\n",
      "R2 Score (Final Result) weighted with attribute selection on linear regression\n",
      "0.8894366309876126\n"
     ]
    }
   ],
   "source": [
    "print(\"RMSE (Final Result) weighted with attribute selection on linear regression\")\n",
    "print(rmse(Y_test, pred_mlr_knn_w ))\n",
    "print(\"R2 Score (Final Result) weighted with attribute selection on linear regression\")\n",
    "print(r2_score(Y_test, pred_mlr_knn_w ))"
   ]
  },
  {
   "cell_type": "code",
   "execution_count": 15,
   "metadata": {},
   "outputs": [],
   "source": [
    "###Averaging MLR and KNN model with weight mlr=10/14 knn = 4/14\n",
    "pred_mlr_knn_w = (np.dot(Y_pred_mlr,10)+np.dot(Y_pred_knn_w,4))/14"
   ]
  },
  {
   "cell_type": "code",
   "execution_count": 16,
   "metadata": {},
   "outputs": [
    {
     "name": "stdout",
     "output_type": "stream",
     "text": [
      "RMSE (Final Result) weighted with attribute selection on KNN\n",
      "6904.035285030809\n",
      "R2 Score (Final Result) weighted with attribute selection on KNN\n",
      "0.7862816526337091\n"
     ]
    }
   ],
   "source": [
    "print(\"RMSE (Final Result) weighted with attribute selection on KNN\")\n",
    "print(rmse(Y_test, pred_mlr_knn_w ))\n",
    "print(\"R2 Score (Final Result) weighted with attribute selection on KNN\")\n",
    "print(r2_score(Y_test, pred_mlr_knn_w ))"
   ]
  }
 ],
 "metadata": {
  "kernelspec": {
   "display_name": "Python 3",
   "language": "python",
   "name": "python3"
  },
  "language_info": {
   "codemirror_mode": {
    "name": "ipython",
    "version": 3
   },
   "file_extension": ".py",
   "mimetype": "text/x-python",
   "name": "python",
   "nbconvert_exporter": "python",
   "pygments_lexer": "ipython3",
   "version": "3.7.1"
  }
 },
 "nbformat": 4,
 "nbformat_minor": 2
}
